{
 "cells": [
  {
   "cell_type": "code",
   "execution_count": 86,
   "id": "acf1139d-b5a3-4422-94c5-f121c535c3d3",
   "metadata": {},
   "outputs": [],
   "source": [
    "# makemore part 3\n",
    "# https://github.com/karpathy/nn-zero-to-hero/blob/master/lectures/makemore/makemore_part3_bn.ipynb\n",
    "# build a character level prediction\n",
    "# using a multi-layer neural network to predict the next word \n",
    "# given the previous ones\n",
    "# https://www.jmlr.org/papers/volume3/bengio03a/bengio03a.pdf\n",
    "# page 1142, we build neural network defined in Figure 1\n",
    "\n",
    "# https://blog.ezyang.com/2019/05/pytorch-internals/\n",
    "# PyTorch internals blog post, logical construct\n"
   ]
  },
  {
   "cell_type": "code",
   "execution_count": 2,
   "id": "71b73e87-2f86-4dd0-b69e-477fb7057a4c",
   "metadata": {},
   "outputs": [
    {
     "name": "stdout",
     "output_type": "stream",
     "text": [
      "Python 3.10.15\n"
     ]
    }
   ],
   "source": [
    "!python -V"
   ]
  },
  {
   "cell_type": "code",
   "execution_count": 249,
   "id": "dc6616d1-1dc6-4b64-812d-b4ba0edf9f01",
   "metadata": {},
   "outputs": [],
   "source": [
    "import torch\n",
    "import torch.nn.functional as F\n",
    "import matplotlib.pyplot as plt  # for graph visualization\n",
    "# magic command to display graph within cells\n",
    "# !pip install matplotlib ipython\n",
    "%matplotlib inline  "
   ]
  },
  {
   "cell_type": "code",
   "execution_count": 7,
   "id": "c83fa839-d074-4e8d-8731-5b8bd1500c2e",
   "metadata": {},
   "outputs": [],
   "source": [
    "# https://github.com/karpathy/makemore/blob/master/names.txt\n",
    "# !cp /Users/user/Downloads/names.txt ."
   ]
  },
  {
   "cell_type": "code",
   "execution_count": 8,
   "id": "10447aa2-ded5-496f-8f0c-a743179a8456",
   "metadata": {},
   "outputs": [
    {
     "data": {
      "text/plain": [
       "['emma', 'olivia', 'ava', 'isabella', 'sophia', 'charlotte', 'mia', 'amelia']"
      ]
     },
     "execution_count": 8,
     "metadata": {},
     "output_type": "execute_result"
    }
   ],
   "source": [
    "# read in all the words\n",
    "words = open('names.txt', 'r').read().splitlines()\n",
    "words[:8]"
   ]
  },
  {
   "cell_type": "code",
   "execution_count": 13,
   "id": "5908f9ca-ee63-421a-8311-664ac8348e5e",
   "metadata": {},
   "outputs": [
    {
     "data": {
      "text/plain": [
       "(32033, 16016)"
      ]
     },
     "execution_count": 13,
     "metadata": {},
     "output_type": "execute_result"
    }
   ],
   "source": [
    "# check total length\n",
    "len(words), len(words)//2"
   ]
  },
  {
   "cell_type": "code",
   "execution_count": 11,
   "id": "e01cc1eb-f0c3-40f3-b228-db06039f5508",
   "metadata": {},
   "outputs": [
    {
     "data": {
      "text/plain": [
       "2"
      ]
     },
     "execution_count": 11,
     "metadata": {},
     "output_type": "execute_result"
    }
   ],
   "source": [
    "min(len(w) for w in words)"
   ]
  },
  {
   "cell_type": "code",
   "execution_count": 12,
   "id": "000ccffc-ed62-4fc0-8b8c-d6cc0f3f073a",
   "metadata": {},
   "outputs": [
    {
     "data": {
      "text/plain": [
       "15"
      ]
     },
     "execution_count": 12,
     "metadata": {},
     "output_type": "execute_result"
    }
   ],
   "source": [
    "max(len(w) for w in words)"
   ]
  },
  {
   "cell_type": "code",
   "execution_count": 26,
   "id": "d74cd12f-0caf-42c7-95c1-f0c949aa3554",
   "metadata": {},
   "outputs": [
    {
     "name": "stdout",
     "output_type": "stream",
     "text": [
      "{1: 'a', 2: 'b', 3: 'c', 4: 'd', 5: 'e', 6: 'f', 7: 'g', 8: 'h', 9: 'i', 10: 'j', 11: 'k', 12: 'l', 13: 'm', 14: 'n', 15: 'o', 16: 'p', 17: 'q', 18: 'r', 19: 's', 20: 't', 21: 'u', 22: 'v', 23: 'w', 24: 'x', 25: 'y', 26: 'z', 0: '.'}\n"
     ]
    }
   ],
   "source": [
    "# build the vocabulary of characters and mappings to/from integers\n",
    "chars = sorted(list(set(''.join(words))))\n",
    "stoi = {s:i+1 for i,s in enumerate(chars)}\n",
    "stoi['.'] = 0\n",
    "itos = {i:s for s,i in stoi.items()}\n",
    "print(itos)  # total 27 characters 26 + \".\", used below in Y"
   ]
  },
  {
   "cell_type": "code",
   "execution_count": 45,
   "id": "84c8ed0e-f1cc-4d11-96eb-33f46040bbc7",
   "metadata": {},
   "outputs": [
    {
     "name": "stdout",
     "output_type": "stream",
     "text": [
      "emma\n",
      "... ---> e\n",
      "..e ---> m\n",
      ".em ---> m\n",
      "emm ---> a\n",
      "mma ---> .\n",
      "olivia\n",
      "... ---> o\n",
      "..o ---> l\n",
      ".ol ---> i\n",
      "oli ---> v\n",
      "liv ---> i\n",
      "ivi ---> a\n",
      "via ---> .\n",
      "ava\n",
      "... ---> a\n",
      "..a ---> v\n",
      ".av ---> a\n",
      "ava ---> .\n",
      "isabella\n",
      "... ---> i\n",
      "..i ---> s\n",
      ".is ---> a\n",
      "isa ---> b\n",
      "sab ---> e\n",
      "abe ---> l\n",
      "bel ---> l\n",
      "ell ---> a\n",
      "lla ---> .\n",
      "sophia\n",
      "... ---> s\n",
      "..s ---> o\n",
      ".so ---> p\n",
      "sop ---> h\n",
      "oph ---> i\n",
      "phi ---> a\n",
      "hia ---> .\n"
     ]
    }
   ],
   "source": [
    "# build the dataset\n",
    "block_size = 3 # context length: how many characters we take to predict the next one?\n",
    "X, Y = [], []   # X: input to neural net, Y: labels for each example inside X\n",
    "for w in words[:5]:\n",
    "    print(w)\n",
    "    context = [0] * block_size   # padded context starting with 0 tokens\n",
    "    for ch in w + '.':\n",
    "        ix = stoi[ch]\n",
    "        # print(ch)    # emma, olivia, ava, isabella\n",
    "        # print(ix)    # 5, 13, 13, 1, 0, ...\n",
    "        # print(context)  # [0, 0, 0], [0, 0, 5], [0, 5, 13]\n",
    "        X.append(context)   # current running context\n",
    "        Y.append(ix)        # Y current character\n",
    "        print(''.join(itos[i] for i in context), '--->', itos[ix])\n",
    "        # print(context[1:], [ix])  # [0, 0] [5], [0, 5] [13], [5, 13] [13]\n",
    "        context = context[1:] + [ix]  # crop and append, rolling window context\n",
    "                                      # remove context[0], append [ix]\n",
    "                                      # to keep block_size\n",
    "        # print(context, [ix])  # [0, 0, 5] [5], [0, 5, 13] [13], [5, 13, 13] [13]\n",
    "        \n",
    "X = torch.tensor(X)\n",
    "Y = torch.tensor(Y)"
   ]
  },
  {
   "cell_type": "code",
   "execution_count": 51,
   "id": "13071203-bc8b-48d0-9a16-6c682a50abad",
   "metadata": {},
   "outputs": [
    {
     "data": {
      "text/plain": [
       "(torch.Size([32, 3]), torch.int64, torch.Size([32]), torch.int64)"
      ]
     },
     "execution_count": 51,
     "metadata": {},
     "output_type": "execute_result"
    }
   ],
   "source": [
    "X.shape, X.dtype, Y.shape, Y.dtype\n",
    "# total 32 examples of context, and 32 labels in integer\n",
    "# objectives: take X input to predict Y"
   ]
  },
  {
   "cell_type": "code",
   "execution_count": 52,
   "id": "711d8181-8aae-4c2e-9608-e635651ce8ef",
   "metadata": {},
   "outputs": [
    {
     "data": {
      "text/plain": [
       "tensor([[ 0,  0,  0],\n",
       "        [ 0,  0,  5],\n",
       "        [ 0,  5, 13],\n",
       "        [ 5, 13, 13],\n",
       "        [13, 13,  1],\n",
       "        [ 0,  0,  0],\n",
       "        [ 0,  0, 15],\n",
       "        [ 0, 15, 12],\n",
       "        [15, 12,  9],\n",
       "        [12,  9, 22],\n",
       "        [ 9, 22,  9],\n",
       "        [22,  9,  1],\n",
       "        [ 0,  0,  0],\n",
       "        [ 0,  0,  1],\n",
       "        [ 0,  1, 22],\n",
       "        [ 1, 22,  1],\n",
       "        [ 0,  0,  0],\n",
       "        [ 0,  0,  9],\n",
       "        [ 0,  9, 19],\n",
       "        [ 9, 19,  1],\n",
       "        [19,  1,  2],\n",
       "        [ 1,  2,  5],\n",
       "        [ 2,  5, 12],\n",
       "        [ 5, 12, 12],\n",
       "        [12, 12,  1],\n",
       "        [ 0,  0,  0],\n",
       "        [ 0,  0, 19],\n",
       "        [ 0, 19, 15],\n",
       "        [19, 15, 16],\n",
       "        [15, 16,  8],\n",
       "        [16,  8,  9],\n",
       "        [ 8,  9,  1]])"
      ]
     },
     "execution_count": 52,
     "metadata": {},
     "output_type": "execute_result"
    }
   ],
   "source": [
    "X # individual examples from 5 examples"
   ]
  },
  {
   "cell_type": "code",
   "execution_count": 54,
   "id": "7ddcf3d6-8966-4d03-bacd-a60b898d5231",
   "metadata": {},
   "outputs": [
    {
     "data": {
      "text/plain": [
       "tensor([ 5, 13, 13,  1,  0, 15, 12,  9, 22,  9,  1,  0,  1, 22,  1,  0,  9, 19,\n",
       "         1,  2,  5, 12, 12,  1,  0, 19, 15, 16,  8,  9,  1,  0])"
      ]
     },
     "execution_count": 54,
     "metadata": {},
     "output_type": "execute_result"
    }
   ],
   "source": [
    "Y # labels, build neural network, take input of X, predict Y"
   ]
  },
  {
   "cell_type": "code",
   "execution_count": 56,
   "id": "20001c41-9736-48e9-b9df-96b3ba67fafa",
   "metadata": {},
   "outputs": [
    {
     "data": {
      "text/plain": [
       "32"
      ]
     },
     "execution_count": 56,
     "metadata": {},
     "output_type": "execute_result"
    }
   ],
   "source": [
    "len(set(Y))"
   ]
  },
  {
   "cell_type": "code",
   "execution_count": 59,
   "id": "b77a79d9-767c-43f2-8c87-5940cd327456",
   "metadata": {},
   "outputs": [],
   "source": [
    "# First build embedding lookup table C\n",
    "# We have 27 characters, we can start with 2 dimensional space\n",
    "C = torch.randn((27, 2))    # 27 rows, 2 columns\n",
    "                            # each 27 characters has a 2 dimensional embeddings\n",
    "                            # at beginning it is initialized randomly"
   ]
  },
  {
   "cell_type": "code",
   "execution_count": 60,
   "id": "d3307bdd-be5d-4a22-a976-d0a29979f512",
   "metadata": {},
   "outputs": [
    {
     "data": {
      "text/plain": [
       "tensor([[ 2.0287e-01, -1.2250e-01],\n",
       "        [-9.5518e-01, -2.9084e-01],\n",
       "        [ 6.2059e-01, -1.8404e+00],\n",
       "        [ 8.7281e-02,  7.6165e-01],\n",
       "        [ 5.0053e-01, -3.0633e-01],\n",
       "        [-1.6754e+00, -5.2172e-01],\n",
       "        [ 2.3319e+00, -3.4363e-01],\n",
       "        [ 3.3123e-02, -1.1252e+00],\n",
       "        [ 1.6001e+00,  1.1604e+00],\n",
       "        [-4.9162e-01,  3.8635e-02],\n",
       "        [-7.2178e-01,  3.7027e-01],\n",
       "        [ 1.3269e+00,  7.5952e-04],\n",
       "        [-9.1578e-01, -1.0278e+00],\n",
       "        [ 5.7028e-01,  1.0984e+00],\n",
       "        [-1.4193e+00,  1.4006e+00],\n",
       "        [-9.7100e-01, -1.0740e+00],\n",
       "        [ 9.1988e-01, -4.4818e-01],\n",
       "        [-1.2028e-01,  6.9088e-01],\n",
       "        [ 4.9088e-01, -4.3562e-01],\n",
       "        [-9.1984e-01,  6.9254e-01],\n",
       "        [-9.9569e-01, -2.6228e-01],\n",
       "        [-3.0904e-01,  4.6989e-01],\n",
       "        [-8.0374e-01,  1.0420e+00],\n",
       "        [-8.7421e-01,  3.6362e-01],\n",
       "        [-4.8800e-01,  1.1134e-01],\n",
       "        [ 4.1788e-01,  5.0674e-02],\n",
       "        [ 1.1535e+00,  5.2682e-01]])"
      ]
     },
     "execution_count": 60,
     "metadata": {},
     "output_type": "execute_result"
    }
   ],
   "source": [
    "C"
   ]
  },
  {
   "cell_type": "code",
   "execution_count": 61,
   "id": "1a9b630a-e551-4568-b539-d999d9078967",
   "metadata": {},
   "outputs": [
    {
     "data": {
      "text/plain": [
       "tensor([-1.6754, -0.5217])"
      ]
     },
     "execution_count": 61,
     "metadata": {},
     "output_type": "execute_result"
    }
   ],
   "source": [
    "C[5]  # 1. Indexing, One way we just take the row 5 for number 5 with current value"
   ]
  },
  {
   "cell_type": "code",
   "execution_count": 64,
   "id": "d44ea1a6-d6e9-4639-b772-902aa86f14f5",
   "metadata": {},
   "outputs": [
    {
     "data": {
      "text/plain": [
       "tensor([0, 0, 0, 0, 0, 1, 0, 0, 0, 0, 0, 0, 0, 0, 0, 0, 0, 0, 0, 0, 0, 0, 0, 0,\n",
       "        0, 0, 0])"
      ]
     },
     "execution_count": 64,
     "metadata": {},
     "output_type": "execute_result"
    }
   ],
   "source": [
    "# We can use hot encoding for 5 in 27 classes\n",
    "# Every bit is 0, except 5th bit is turned on\n",
    "# torch.nn.functional as F\n",
    "# F.one_hot(5, num_classes=27)   # Error, 5 must be Tensor, not int\n",
    "F.one_hot(torch.tensor(5), num_classes=27)"
   ]
  },
  {
   "cell_type": "code",
   "execution_count": 65,
   "id": "952ac770-8e52-4ce0-bf3e-221d9bb78874",
   "metadata": {},
   "outputs": [
    {
     "data": {
      "text/plain": [
       "torch.Size([27])"
      ]
     },
     "execution_count": 65,
     "metadata": {},
     "output_type": "execute_result"
    }
   ],
   "source": [
    "# The shape is 27\n",
    "F.one_hot(torch.tensor(5), num_classes=27).shape"
   ]
  },
  {
   "cell_type": "code",
   "execution_count": 70,
   "id": "990221f1-6b9e-4365-b015-b9b767451680",
   "metadata": {},
   "outputs": [
    {
     "name": "stdout",
     "output_type": "stream",
     "text": [
      "torch.int64 torch.float32\n"
     ]
    }
   ],
   "source": [
    "# 2. Take one_hot vector multiple by C\n",
    "# F.one_hot(torch.tensor(5), num_classes=27) @ C  \n",
    "# RuntimeError: expected scalar type Long but found Float \n",
    "print(F.one_hot(torch.tensor(5), num_classes=27).dtype, C.dtype)  # int vs float"
   ]
  },
  {
   "cell_type": "code",
   "execution_count": 72,
   "id": "80b9f047-ea26-49b2-a6aa-3d204a91b4b3",
   "metadata": {},
   "outputs": [
    {
     "data": {
      "text/plain": [
       "tensor([-1.6754, -0.5217])"
      ]
     },
     "execution_count": 72,
     "metadata": {},
     "output_type": "execute_result"
    }
   ],
   "source": [
    "# cast one_hot to float and multiply\n",
    "F.one_hot(torch.tensor(5), num_classes=27).float() @ C\n",
    "# return exact value as above, because rows with 0 are masking out, except row 5"
   ]
  },
  {
   "cell_type": "code",
   "execution_count": 73,
   "id": "5d0a1ef4-34ac-4e48-bfa0-cc8961c96cfd",
   "metadata": {},
   "outputs": [
    {
     "data": {
      "text/plain": [
       "tensor([-1.6754, -0.5217])"
      ]
     },
     "execution_count": 73,
     "metadata": {},
     "output_type": "execute_result"
    }
   ],
   "source": [
    "# We used two optioins indexing and one-hot encoding methods\n",
    "# We will just use indexing because it is faster and easier\n",
    "# row of index 5\n",
    "C[5]"
   ]
  },
  {
   "cell_type": "code",
   "execution_count": 76,
   "id": "2ce43740-31d5-4cca-ae8a-65a32c857197",
   "metadata": {},
   "outputs": [
    {
     "data": {
      "text/plain": [
       "tensor([[-1.6754, -0.5217],\n",
       "        [ 2.3319, -0.3436],\n",
       "        [ 0.0331, -1.1252],\n",
       "        [ 0.0331, -1.1252],\n",
       "        [ 0.0331, -1.1252]])"
      ]
     },
     "execution_count": 76,
     "metadata": {},
     "output_type": "execute_result"
    }
   ],
   "source": [
    "# We can use index with input of list, as one dimensional tensor of integers\n",
    "C[[5,6,7,7,7]]"
   ]
  },
  {
   "cell_type": "code",
   "execution_count": 78,
   "id": "d989e709-8e71-460b-8556-277151de51b9",
   "metadata": {},
   "outputs": [
    {
     "data": {
      "text/plain": [
       "tensor([[[ 0.2029, -0.1225],\n",
       "         [ 0.2029, -0.1225],\n",
       "         [ 0.2029, -0.1225]],\n",
       "\n",
       "        [[ 0.2029, -0.1225],\n",
       "         [ 0.2029, -0.1225],\n",
       "         [-1.6754, -0.5217]],\n",
       "\n",
       "        [[ 0.2029, -0.1225],\n",
       "         [-1.6754, -0.5217],\n",
       "         [ 0.5703,  1.0984]],\n",
       "\n",
       "        [[-1.6754, -0.5217],\n",
       "         [ 0.5703,  1.0984],\n",
       "         [ 0.5703,  1.0984]],\n",
       "\n",
       "        [[ 0.5703,  1.0984],\n",
       "         [ 0.5703,  1.0984],\n",
       "         [-0.9552, -0.2908]],\n",
       "\n",
       "        [[ 0.2029, -0.1225],\n",
       "         [ 0.2029, -0.1225],\n",
       "         [ 0.2029, -0.1225]],\n",
       "\n",
       "        [[ 0.2029, -0.1225],\n",
       "         [ 0.2029, -0.1225],\n",
       "         [-0.9710, -1.0740]],\n",
       "\n",
       "        [[ 0.2029, -0.1225],\n",
       "         [-0.9710, -1.0740],\n",
       "         [-0.9158, -1.0278]],\n",
       "\n",
       "        [[-0.9710, -1.0740],\n",
       "         [-0.9158, -1.0278],\n",
       "         [-0.4916,  0.0386]],\n",
       "\n",
       "        [[-0.9158, -1.0278],\n",
       "         [-0.4916,  0.0386],\n",
       "         [-0.8037,  1.0420]],\n",
       "\n",
       "        [[-0.4916,  0.0386],\n",
       "         [-0.8037,  1.0420],\n",
       "         [-0.4916,  0.0386]],\n",
       "\n",
       "        [[-0.8037,  1.0420],\n",
       "         [-0.4916,  0.0386],\n",
       "         [-0.9552, -0.2908]],\n",
       "\n",
       "        [[ 0.2029, -0.1225],\n",
       "         [ 0.2029, -0.1225],\n",
       "         [ 0.2029, -0.1225]],\n",
       "\n",
       "        [[ 0.2029, -0.1225],\n",
       "         [ 0.2029, -0.1225],\n",
       "         [-0.9552, -0.2908]],\n",
       "\n",
       "        [[ 0.2029, -0.1225],\n",
       "         [-0.9552, -0.2908],\n",
       "         [-0.8037,  1.0420]],\n",
       "\n",
       "        [[-0.9552, -0.2908],\n",
       "         [-0.8037,  1.0420],\n",
       "         [-0.9552, -0.2908]],\n",
       "\n",
       "        [[ 0.2029, -0.1225],\n",
       "         [ 0.2029, -0.1225],\n",
       "         [ 0.2029, -0.1225]],\n",
       "\n",
       "        [[ 0.2029, -0.1225],\n",
       "         [ 0.2029, -0.1225],\n",
       "         [-0.4916,  0.0386]],\n",
       "\n",
       "        [[ 0.2029, -0.1225],\n",
       "         [-0.4916,  0.0386],\n",
       "         [-0.9198,  0.6925]],\n",
       "\n",
       "        [[-0.4916,  0.0386],\n",
       "         [-0.9198,  0.6925],\n",
       "         [-0.9552, -0.2908]],\n",
       "\n",
       "        [[-0.9198,  0.6925],\n",
       "         [-0.9552, -0.2908],\n",
       "         [ 0.6206, -1.8404]],\n",
       "\n",
       "        [[-0.9552, -0.2908],\n",
       "         [ 0.6206, -1.8404],\n",
       "         [-1.6754, -0.5217]],\n",
       "\n",
       "        [[ 0.6206, -1.8404],\n",
       "         [-1.6754, -0.5217],\n",
       "         [-0.9158, -1.0278]],\n",
       "\n",
       "        [[-1.6754, -0.5217],\n",
       "         [-0.9158, -1.0278],\n",
       "         [-0.9158, -1.0278]],\n",
       "\n",
       "        [[-0.9158, -1.0278],\n",
       "         [-0.9158, -1.0278],\n",
       "         [-0.9552, -0.2908]],\n",
       "\n",
       "        [[ 0.2029, -0.1225],\n",
       "         [ 0.2029, -0.1225],\n",
       "         [ 0.2029, -0.1225]],\n",
       "\n",
       "        [[ 0.2029, -0.1225],\n",
       "         [ 0.2029, -0.1225],\n",
       "         [-0.9198,  0.6925]],\n",
       "\n",
       "        [[ 0.2029, -0.1225],\n",
       "         [-0.9198,  0.6925],\n",
       "         [-0.9710, -1.0740]],\n",
       "\n",
       "        [[-0.9198,  0.6925],\n",
       "         [-0.9710, -1.0740],\n",
       "         [ 0.9199, -0.4482]],\n",
       "\n",
       "        [[-0.9710, -1.0740],\n",
       "         [ 0.9199, -0.4482],\n",
       "         [ 1.6001,  1.1604]],\n",
       "\n",
       "        [[ 0.9199, -0.4482],\n",
       "         [ 1.6001,  1.1604],\n",
       "         [-0.4916,  0.0386]],\n",
       "\n",
       "        [[ 1.6001,  1.1604],\n",
       "         [-0.4916,  0.0386],\n",
       "         [-0.9552, -0.2908]]])"
      ]
     },
     "execution_count": 78,
     "metadata": {},
     "output_type": "execute_result"
    }
   ],
   "source": [
    "# We can also index with 2 dimensional tensor, it just work\n",
    "# C lookup table, X: 32 examples of context from above\n",
    "C[X]"
   ]
  },
  {
   "cell_type": "code",
   "execution_count": 79,
   "id": "f7387485-7948-480f-8948-0f598ca17a43",
   "metadata": {},
   "outputs": [
    {
     "data": {
      "text/plain": [
       "torch.Size([32, 3, 2])"
      ]
     },
     "execution_count": 79,
     "metadata": {},
     "output_type": "execute_result"
    }
   ],
   "source": [
    "C[X].shape\n",
    "# We retrieve 2 dimensional embeddings"
   ]
  },
  {
   "cell_type": "code",
   "execution_count": 81,
   "id": "3817908b-9ccb-4c2c-b592-a6958c98cbcf",
   "metadata": {},
   "outputs": [
    {
     "data": {
      "text/plain": [
       "tensor(1)"
      ]
     },
     "execution_count": 81,
     "metadata": {},
     "output_type": "execute_result"
    }
   ],
   "source": [
    "# Example index of 13, the 2nd dimension, is tensor(1)\n",
    "X[13, 2]"
   ]
  },
  {
   "cell_type": "code",
   "execution_count": 82,
   "id": "2be0fd7c-1821-498d-a205-6ecd1fe40ec2",
   "metadata": {},
   "outputs": [
    {
     "data": {
      "text/plain": [
       "tensor([-0.9552, -0.2908])"
      ]
     },
     "execution_count": 82,
     "metadata": {},
     "output_type": "execute_result"
    }
   ],
   "source": [
    "# getting embedding from C\n",
    "C[X][13,2]"
   ]
  },
  {
   "cell_type": "code",
   "execution_count": 83,
   "id": "ada4417e-a182-475c-97b1-aef197cbe859",
   "metadata": {},
   "outputs": [
    {
     "data": {
      "text/plain": [
       "tensor([-0.9552, -0.2908])"
      ]
     },
     "execution_count": 83,
     "metadata": {},
     "output_type": "execute_result"
    }
   ],
   "source": [
    "# verify C[1] embedding is same as above, they are equal\n",
    "C[1]"
   ]
  },
  {
   "cell_type": "code",
   "execution_count": 85,
   "id": "27930f8e-f06b-409f-b33b-38ade1248a53",
   "metadata": {},
   "outputs": [
    {
     "data": {
      "text/plain": [
       "torch.Size([32, 3, 2])"
      ]
     },
     "execution_count": 85,
     "metadata": {},
     "output_type": "execute_result"
    }
   ],
   "source": [
    "# pytorch indexing is awesome, it just works\n",
    "emb = C[X]\n",
    "emb.shape"
   ]
  },
  {
   "cell_type": "code",
   "execution_count": 89,
   "id": "1072a62a-ab33-456b-b7f8-d531de843fee",
   "metadata": {},
   "outputs": [],
   "source": [
    "# Construct hidden layer, we call W1, initialized randomly\n",
    "# we have 32 examples, 2 dimensional embeddings, we have 3 of them\n",
    "# 3: block size\n",
    "# 2: embedding size\n",
    "# these values are used from the paper cited at the beginning, tanh middle layer\n",
    "\n",
    "# input to the layer: 6 = 3*2 (2 dimensional * 3 of them)\n",
    "# number of neurons: 100 (we decided)\n",
    "W1 = torch.randn((6, 100))\n",
    "b1 = torch.randn(100)   # 100 bias, we need 100 of them"
   ]
  },
  {
   "cell_type": "code",
   "execution_count": 93,
   "id": "8b9a283b-b6df-4568-87b1-244f8dc33e42",
   "metadata": {},
   "outputs": [
    {
     "data": {
      "text/plain": [
       "(tensor([[ 0.2029, -0.1225],\n",
       "         [ 0.2029, -0.1225],\n",
       "         [ 0.2029, -0.1225],\n",
       "         [-1.6754, -0.5217],\n",
       "         [ 0.5703,  1.0984],\n",
       "         [ 0.2029, -0.1225],\n",
       "         [ 0.2029, -0.1225],\n",
       "         [ 0.2029, -0.1225],\n",
       "         [-0.9710, -1.0740],\n",
       "         [-0.9158, -1.0278],\n",
       "         [-0.4916,  0.0386],\n",
       "         [-0.8037,  1.0420],\n",
       "         [ 0.2029, -0.1225],\n",
       "         [ 0.2029, -0.1225],\n",
       "         [ 0.2029, -0.1225],\n",
       "         [-0.9552, -0.2908],\n",
       "         [ 0.2029, -0.1225],\n",
       "         [ 0.2029, -0.1225],\n",
       "         [ 0.2029, -0.1225],\n",
       "         [-0.4916,  0.0386],\n",
       "         [-0.9198,  0.6925],\n",
       "         [-0.9552, -0.2908],\n",
       "         [ 0.6206, -1.8404],\n",
       "         [-1.6754, -0.5217],\n",
       "         [-0.9158, -1.0278],\n",
       "         [ 0.2029, -0.1225],\n",
       "         [ 0.2029, -0.1225],\n",
       "         [ 0.2029, -0.1225],\n",
       "         [-0.9198,  0.6925],\n",
       "         [-0.9710, -1.0740],\n",
       "         [ 0.9199, -0.4482],\n",
       "         [ 1.6001,  1.1604]]),\n",
       " tensor([[ 0.2029, -0.1225],\n",
       "         [ 0.2029, -0.1225],\n",
       "         [-1.6754, -0.5217],\n",
       "         [ 0.5703,  1.0984],\n",
       "         [ 0.5703,  1.0984],\n",
       "         [ 0.2029, -0.1225],\n",
       "         [ 0.2029, -0.1225],\n",
       "         [-0.9710, -1.0740],\n",
       "         [-0.9158, -1.0278],\n",
       "         [-0.4916,  0.0386],\n",
       "         [-0.8037,  1.0420],\n",
       "         [-0.4916,  0.0386],\n",
       "         [ 0.2029, -0.1225],\n",
       "         [ 0.2029, -0.1225],\n",
       "         [-0.9552, -0.2908],\n",
       "         [-0.8037,  1.0420],\n",
       "         [ 0.2029, -0.1225],\n",
       "         [ 0.2029, -0.1225],\n",
       "         [-0.4916,  0.0386],\n",
       "         [-0.9198,  0.6925],\n",
       "         [-0.9552, -0.2908],\n",
       "         [ 0.6206, -1.8404],\n",
       "         [-1.6754, -0.5217],\n",
       "         [-0.9158, -1.0278],\n",
       "         [-0.9158, -1.0278],\n",
       "         [ 0.2029, -0.1225],\n",
       "         [ 0.2029, -0.1225],\n",
       "         [-0.9198,  0.6925],\n",
       "         [-0.9710, -1.0740],\n",
       "         [ 0.9199, -0.4482],\n",
       "         [ 1.6001,  1.1604],\n",
       "         [-0.4916,  0.0386]]),\n",
       " tensor([[ 0.2029, -0.1225],\n",
       "         [-1.6754, -0.5217],\n",
       "         [ 0.5703,  1.0984],\n",
       "         [ 0.5703,  1.0984],\n",
       "         [-0.9552, -0.2908],\n",
       "         [ 0.2029, -0.1225],\n",
       "         [-0.9710, -1.0740],\n",
       "         [-0.9158, -1.0278],\n",
       "         [-0.4916,  0.0386],\n",
       "         [-0.8037,  1.0420],\n",
       "         [-0.4916,  0.0386],\n",
       "         [-0.9552, -0.2908],\n",
       "         [ 0.2029, -0.1225],\n",
       "         [-0.9552, -0.2908],\n",
       "         [-0.8037,  1.0420],\n",
       "         [-0.9552, -0.2908],\n",
       "         [ 0.2029, -0.1225],\n",
       "         [-0.4916,  0.0386],\n",
       "         [-0.9198,  0.6925],\n",
       "         [-0.9552, -0.2908],\n",
       "         [ 0.6206, -1.8404],\n",
       "         [-1.6754, -0.5217],\n",
       "         [-0.9158, -1.0278],\n",
       "         [-0.9158, -1.0278],\n",
       "         [-0.9552, -0.2908],\n",
       "         [ 0.2029, -0.1225],\n",
       "         [-0.9198,  0.6925],\n",
       "         [-0.9710, -1.0740],\n",
       "         [ 0.9199, -0.4482],\n",
       "         [ 1.6001,  1.1604],\n",
       "         [-0.4916,  0.0386],\n",
       "         [-0.9552, -0.2908]]))"
      ]
     },
     "execution_count": 93,
     "metadata": {},
     "output_type": "execute_result"
    }
   ],
   "source": [
    "# emb @ W1 + b1, this is roughly what we want to do \n",
    "# this does not because emb is stacked up with [32, 3, 2]\n",
    "# we need concatenate input together\n",
    "# we need to transform [32, 3, 2] to [32, 6\n",
    "# There are many options on https://docs.pytorch.org/docs/stable/torch.html\n",
    "# lookup torch / concatnenate, and others to create/transform etc operations\n",
    "emb[:, 0, :], emb[:, 1, :], emb[:, 2, :]  # all rows, 3 context blocks\n",
    "                                          # we need to concat them\n"
   ]
  },
  {
   "cell_type": "code",
   "execution_count": null,
   "id": "4e67261d-802e-4697-994c-2548c4d9d96f",
   "metadata": {},
   "outputs": [],
   "source": []
  },
  {
   "cell_type": "code",
   "execution_count": null,
   "id": "f7d45909-d535-4161-a871-b474c0311c16",
   "metadata": {},
   "outputs": [],
   "source": []
  },
  {
   "cell_type": "code",
   "execution_count": 98,
   "id": "acbaf0e1-2b16-4f9d-a09a-60095a9487b1",
   "metadata": {},
   "outputs": [
    {
     "data": {
      "text/plain": [
       "torch.Size([32, 2])"
      ]
     },
     "execution_count": 98,
     "metadata": {},
     "output_type": "execute_result"
    }
   ],
   "source": [
    "emb[:, 0, :].shape # the first word"
   ]
  },
  {
   "cell_type": "code",
   "execution_count": 99,
   "id": "fe7ddc94-0749-4c77-9440-1d8c9999dcce",
   "metadata": {},
   "outputs": [
    {
     "data": {
      "text/plain": [
       "(tensor([[ 0.2029, -0.1225],\n",
       "         [ 0.2029, -0.1225],\n",
       "         [ 0.2029, -0.1225],\n",
       "         [-1.6754, -0.5217],\n",
       "         [ 0.5703,  1.0984],\n",
       "         [ 0.2029, -0.1225],\n",
       "         [ 0.2029, -0.1225],\n",
       "         [ 0.2029, -0.1225],\n",
       "         [-0.9710, -1.0740],\n",
       "         [-0.9158, -1.0278],\n",
       "         [-0.4916,  0.0386],\n",
       "         [-0.8037,  1.0420],\n",
       "         [ 0.2029, -0.1225],\n",
       "         [ 0.2029, -0.1225],\n",
       "         [ 0.2029, -0.1225],\n",
       "         [-0.9552, -0.2908],\n",
       "         [ 0.2029, -0.1225],\n",
       "         [ 0.2029, -0.1225],\n",
       "         [ 0.2029, -0.1225],\n",
       "         [-0.4916,  0.0386],\n",
       "         [-0.9198,  0.6925],\n",
       "         [-0.9552, -0.2908],\n",
       "         [ 0.6206, -1.8404],\n",
       "         [-1.6754, -0.5217],\n",
       "         [-0.9158, -1.0278],\n",
       "         [ 0.2029, -0.1225],\n",
       "         [ 0.2029, -0.1225],\n",
       "         [ 0.2029, -0.1225],\n",
       "         [-0.9198,  0.6925],\n",
       "         [-0.9710, -1.0740],\n",
       "         [ 0.9199, -0.4482],\n",
       "         [ 1.6001,  1.1604]]),\n",
       " tensor([[ 0.2029, -0.1225],\n",
       "         [ 0.2029, -0.1225],\n",
       "         [-1.6754, -0.5217],\n",
       "         [ 0.5703,  1.0984],\n",
       "         [ 0.5703,  1.0984],\n",
       "         [ 0.2029, -0.1225],\n",
       "         [ 0.2029, -0.1225],\n",
       "         [-0.9710, -1.0740],\n",
       "         [-0.9158, -1.0278],\n",
       "         [-0.4916,  0.0386],\n",
       "         [-0.8037,  1.0420],\n",
       "         [-0.4916,  0.0386],\n",
       "         [ 0.2029, -0.1225],\n",
       "         [ 0.2029, -0.1225],\n",
       "         [-0.9552, -0.2908],\n",
       "         [-0.8037,  1.0420],\n",
       "         [ 0.2029, -0.1225],\n",
       "         [ 0.2029, -0.1225],\n",
       "         [-0.4916,  0.0386],\n",
       "         [-0.9198,  0.6925],\n",
       "         [-0.9552, -0.2908],\n",
       "         [ 0.6206, -1.8404],\n",
       "         [-1.6754, -0.5217],\n",
       "         [-0.9158, -1.0278],\n",
       "         [-0.9158, -1.0278],\n",
       "         [ 0.2029, -0.1225],\n",
       "         [ 0.2029, -0.1225],\n",
       "         [-0.9198,  0.6925],\n",
       "         [-0.9710, -1.0740],\n",
       "         [ 0.9199, -0.4482],\n",
       "         [ 1.6001,  1.1604],\n",
       "         [-0.4916,  0.0386]]),\n",
       " tensor([[ 0.2029, -0.1225],\n",
       "         [-1.6754, -0.5217],\n",
       "         [ 0.5703,  1.0984],\n",
       "         [ 0.5703,  1.0984],\n",
       "         [-0.9552, -0.2908],\n",
       "         [ 0.2029, -0.1225],\n",
       "         [-0.9710, -1.0740],\n",
       "         [-0.9158, -1.0278],\n",
       "         [-0.4916,  0.0386],\n",
       "         [-0.8037,  1.0420],\n",
       "         [-0.4916,  0.0386],\n",
       "         [-0.9552, -0.2908],\n",
       "         [ 0.2029, -0.1225],\n",
       "         [-0.9552, -0.2908],\n",
       "         [-0.8037,  1.0420],\n",
       "         [-0.9552, -0.2908],\n",
       "         [ 0.2029, -0.1225],\n",
       "         [-0.4916,  0.0386],\n",
       "         [-0.9198,  0.6925],\n",
       "         [-0.9552, -0.2908],\n",
       "         [ 0.6206, -1.8404],\n",
       "         [-1.6754, -0.5217],\n",
       "         [-0.9158, -1.0278],\n",
       "         [-0.9158, -1.0278],\n",
       "         [-0.9552, -0.2908],\n",
       "         [ 0.2029, -0.1225],\n",
       "         [-0.9198,  0.6925],\n",
       "         [-0.9710, -1.0740],\n",
       "         [ 0.9199, -0.4482],\n",
       "         [ 1.6001,  1.1604],\n",
       "         [-0.4916,  0.0386],\n",
       "         [-0.9552, -0.2908]]))"
      ]
     },
     "execution_count": 99,
     "metadata": {},
     "output_type": "execute_result"
    }
   ],
   "source": [
    "emb[:, 0, :], emb[:, 1, :], emb[:, 2, :]  \n",
    "#, 0th, first, 2nd dimensions, per paper input line\n",
    "# we need to concat to 6 dimensions in order to multiply with C"
   ]
  },
  {
   "cell_type": "code",
   "execution_count": 104,
   "id": "d3745819-df4e-4c05-825e-35c737d03396",
   "metadata": {},
   "outputs": [
    {
     "data": {
      "text/plain": [
       "tensor([[ 0.2029, -0.1225,  0.2029, -0.1225,  0.2029, -0.1225],\n",
       "        [ 0.2029, -0.1225,  0.2029, -0.1225, -1.6754, -0.5217],\n",
       "        [ 0.2029, -0.1225, -1.6754, -0.5217,  0.5703,  1.0984],\n",
       "        [-1.6754, -0.5217,  0.5703,  1.0984,  0.5703,  1.0984],\n",
       "        [ 0.5703,  1.0984,  0.5703,  1.0984, -0.9552, -0.2908],\n",
       "        [ 0.2029, -0.1225,  0.2029, -0.1225,  0.2029, -0.1225],\n",
       "        [ 0.2029, -0.1225,  0.2029, -0.1225, -0.9710, -1.0740],\n",
       "        [ 0.2029, -0.1225, -0.9710, -1.0740, -0.9158, -1.0278],\n",
       "        [-0.9710, -1.0740, -0.9158, -1.0278, -0.4916,  0.0386],\n",
       "        [-0.9158, -1.0278, -0.4916,  0.0386, -0.8037,  1.0420],\n",
       "        [-0.4916,  0.0386, -0.8037,  1.0420, -0.4916,  0.0386],\n",
       "        [-0.8037,  1.0420, -0.4916,  0.0386, -0.9552, -0.2908],\n",
       "        [ 0.2029, -0.1225,  0.2029, -0.1225,  0.2029, -0.1225],\n",
       "        [ 0.2029, -0.1225,  0.2029, -0.1225, -0.9552, -0.2908],\n",
       "        [ 0.2029, -0.1225, -0.9552, -0.2908, -0.8037,  1.0420],\n",
       "        [-0.9552, -0.2908, -0.8037,  1.0420, -0.9552, -0.2908],\n",
       "        [ 0.2029, -0.1225,  0.2029, -0.1225,  0.2029, -0.1225],\n",
       "        [ 0.2029, -0.1225,  0.2029, -0.1225, -0.4916,  0.0386],\n",
       "        [ 0.2029, -0.1225, -0.4916,  0.0386, -0.9198,  0.6925],\n",
       "        [-0.4916,  0.0386, -0.9198,  0.6925, -0.9552, -0.2908],\n",
       "        [-0.9198,  0.6925, -0.9552, -0.2908,  0.6206, -1.8404],\n",
       "        [-0.9552, -0.2908,  0.6206, -1.8404, -1.6754, -0.5217],\n",
       "        [ 0.6206, -1.8404, -1.6754, -0.5217, -0.9158, -1.0278],\n",
       "        [-1.6754, -0.5217, -0.9158, -1.0278, -0.9158, -1.0278],\n",
       "        [-0.9158, -1.0278, -0.9158, -1.0278, -0.9552, -0.2908],\n",
       "        [ 0.2029, -0.1225,  0.2029, -0.1225,  0.2029, -0.1225],\n",
       "        [ 0.2029, -0.1225,  0.2029, -0.1225, -0.9198,  0.6925],\n",
       "        [ 0.2029, -0.1225, -0.9198,  0.6925, -0.9710, -1.0740],\n",
       "        [-0.9198,  0.6925, -0.9710, -1.0740,  0.9199, -0.4482],\n",
       "        [-0.9710, -1.0740,  0.9199, -0.4482,  1.6001,  1.1604],\n",
       "        [ 0.9199, -0.4482,  1.6001,  1.1604, -0.4916,  0.0386],\n",
       "        [ 1.6001,  1.1604, -0.4916,  0.0386, -0.9552, -0.2908]])"
      ]
     },
     "execution_count": 104,
     "metadata": {},
     "output_type": "execute_result"
    }
   ],
   "source": [
    "# treat above as sequence, concat along dimension 1, \n",
    "# when concat along dimension 0, it produces 32 * 3 = 96 rows\n",
    "# try it out with dim=0\n",
    "# cat option 1\n",
    "torch.cat([emb[:, 0, :], emb[:, 1, :], emb[:, 2, :]], dim=1)"
   ]
  },
  {
   "cell_type": "code",
   "execution_count": 105,
   "id": "648c6706-1688-4ac2-8c0c-5922d687df76",
   "metadata": {},
   "outputs": [
    {
     "data": {
      "text/plain": [
       "torch.Size([32, 6])"
      ]
     },
     "execution_count": 105,
     "metadata": {},
     "output_type": "execute_result"
    }
   ],
   "source": [
    "torch.cat([emb[:, 0, :], emb[:, 1, :], emb[:, 2, :]], dim=1).shape\n",
    "# now [32, 6] is the size what we want \n",
    "# however, torch.cat is not flexible, what if we use input of 5 block size?"
   ]
  },
  {
   "cell_type": "code",
   "execution_count": 109,
   "id": "106ba126-c1b1-4474-98fa-97d5d8e7336d",
   "metadata": {},
   "outputs": [
    {
     "data": {
      "text/plain": [
       "tensor([[ 0.2029, -0.1225,  0.2029, -0.1225,  0.2029, -0.1225],\n",
       "        [ 0.2029, -0.1225,  0.2029, -0.1225, -1.6754, -0.5217],\n",
       "        [ 0.2029, -0.1225, -1.6754, -0.5217,  0.5703,  1.0984],\n",
       "        [-1.6754, -0.5217,  0.5703,  1.0984,  0.5703,  1.0984],\n",
       "        [ 0.5703,  1.0984,  0.5703,  1.0984, -0.9552, -0.2908],\n",
       "        [ 0.2029, -0.1225,  0.2029, -0.1225,  0.2029, -0.1225],\n",
       "        [ 0.2029, -0.1225,  0.2029, -0.1225, -0.9710, -1.0740],\n",
       "        [ 0.2029, -0.1225, -0.9710, -1.0740, -0.9158, -1.0278],\n",
       "        [-0.9710, -1.0740, -0.9158, -1.0278, -0.4916,  0.0386],\n",
       "        [-0.9158, -1.0278, -0.4916,  0.0386, -0.8037,  1.0420],\n",
       "        [-0.4916,  0.0386, -0.8037,  1.0420, -0.4916,  0.0386],\n",
       "        [-0.8037,  1.0420, -0.4916,  0.0386, -0.9552, -0.2908],\n",
       "        [ 0.2029, -0.1225,  0.2029, -0.1225,  0.2029, -0.1225],\n",
       "        [ 0.2029, -0.1225,  0.2029, -0.1225, -0.9552, -0.2908],\n",
       "        [ 0.2029, -0.1225, -0.9552, -0.2908, -0.8037,  1.0420],\n",
       "        [-0.9552, -0.2908, -0.8037,  1.0420, -0.9552, -0.2908],\n",
       "        [ 0.2029, -0.1225,  0.2029, -0.1225,  0.2029, -0.1225],\n",
       "        [ 0.2029, -0.1225,  0.2029, -0.1225, -0.4916,  0.0386],\n",
       "        [ 0.2029, -0.1225, -0.4916,  0.0386, -0.9198,  0.6925],\n",
       "        [-0.4916,  0.0386, -0.9198,  0.6925, -0.9552, -0.2908],\n",
       "        [-0.9198,  0.6925, -0.9552, -0.2908,  0.6206, -1.8404],\n",
       "        [-0.9552, -0.2908,  0.6206, -1.8404, -1.6754, -0.5217],\n",
       "        [ 0.6206, -1.8404, -1.6754, -0.5217, -0.9158, -1.0278],\n",
       "        [-1.6754, -0.5217, -0.9158, -1.0278, -0.9158, -1.0278],\n",
       "        [-0.9158, -1.0278, -0.9158, -1.0278, -0.9552, -0.2908],\n",
       "        [ 0.2029, -0.1225,  0.2029, -0.1225,  0.2029, -0.1225],\n",
       "        [ 0.2029, -0.1225,  0.2029, -0.1225, -0.9198,  0.6925],\n",
       "        [ 0.2029, -0.1225, -0.9198,  0.6925, -0.9710, -1.0740],\n",
       "        [-0.9198,  0.6925, -0.9710, -1.0740,  0.9199, -0.4482],\n",
       "        [-0.9710, -1.0740,  0.9199, -0.4482,  1.6001,  1.1604],\n",
       "        [ 0.9199, -0.4482,  1.6001,  1.1604, -0.4916,  0.0386],\n",
       "        [ 1.6001,  1.1604, -0.4916,  0.0386, -0.9552, -0.2908]])"
      ]
     },
     "execution_count": 109,
     "metadata": {},
     "output_type": "execute_result"
    }
   ],
   "source": [
    "# concat option 2: use torch.unbind, without hardcoded value\n",
    "# works the same as concat option 1, but works for any block size\n",
    "torch.cat([emb[:, 0, :], emb[:, 1, :], emb[:, 2, :]], 1)\n",
    "# note: torch.cat create new memory storage, very not efficient\n",
    "# torch.cat([emb[:, 0, :], emb[:, 1, :], emb[:, 2, :]], 1).shape\n",
    "# torch.Size([32, 6])"
   ]
  },
  {
   "cell_type": "code",
   "execution_count": 121,
   "id": "6ce207b7-6397-4267-9574-6f0dbf665eb9",
   "metadata": {},
   "outputs": [
    {
     "name": "stdout",
     "output_type": "stream",
     "text": [
      "torch.Size([18])\n",
      "tensor([[ 0,  1,  2,  3,  4,  5,  6,  7,  8],\n",
      "        [ 9, 10, 11, 12, 13, 14, 15, 16, 17]])\n",
      "tensor([[ 0,  1],\n",
      "        [ 2,  3],\n",
      "        [ 4,  5],\n",
      "        [ 6,  7],\n",
      "        [ 8,  9],\n",
      "        [10, 11],\n",
      "        [12, 13],\n",
      "        [14, 15],\n",
      "        [16, 17]])\n",
      "tensor([[[ 0,  1],\n",
      "         [ 2,  3],\n",
      "         [ 4,  5]],\n",
      "\n",
      "        [[ 6,  7],\n",
      "         [ 8,  9],\n",
      "         [10, 11]],\n",
      "\n",
      "        [[12, 13],\n",
      "         [14, 15],\n",
      "         [16, 17]]])\n",
      " 0\n",
      " 1\n",
      " 2\n",
      " 3\n",
      " 4\n",
      " 5\n",
      " 6\n",
      " 7\n",
      " 8\n",
      " 9\n",
      " 10\n",
      " 11\n",
      " 12\n",
      " 13\n",
      " 14\n",
      " 15\n",
      " 16\n",
      " 17\n",
      "[torch.storage._TypedStorage(dtype=torch.int64, device=cpu) of size 18]\n"
     ]
    }
   ],
   "source": [
    "# concat option 3: a significant better way for concat\n",
    "# also can hint some of the internals of torch.tensor\n",
    "# here is an example\n",
    "a = torch.arange(18)  # \n",
    "# a\n",
    "# tensor([ 0,  1,  2,  3,  4,  5,  6,  7,  8,  9, 10, 11, 12, 13, 14, 15, 16, 17])\n",
    "print(a.shape)\n",
    "print(a.view(2, 9))  # 2 by 9 tensor\n",
    "print(a.view(9, 2))  # or 9 by 2 tensor\n",
    "print(a.view(3, 3, 2))   # or 3 by 3 by 2 tensor\n",
    "# as long as total number multiply together is the same as length\n",
    "\n",
    "# tensor .view() if very efficient, each tensor has a storage\n",
    "# the storage is always one dimensional vector\n",
    "# this is how the tensor is represented in the computer memory\n",
    "# no memory is being changed copied moved created when we call view()\n",
    "# this is from tensor storage offset, strides, and shapes\n",
    "# so the bytes is seen as dimensional arrays\n",
    "print(a.storage())"
   ]
  },
  {
   "cell_type": "code",
   "execution_count": 125,
   "id": "e651f659-d10a-4f98-a6b1-1e4aaf178e76",
   "metadata": {},
   "outputs": [
    {
     "name": "stdout",
     "output_type": "stream",
     "text": [
      "torch.Size([32, 3, 2])\n",
      "tensor([[ 0.2029, -0.1225,  0.2029, -0.1225,  0.2029, -0.1225],\n",
      "        [ 0.2029, -0.1225,  0.2029, -0.1225, -1.6754, -0.5217],\n",
      "        [ 0.2029, -0.1225, -1.6754, -0.5217,  0.5703,  1.0984],\n",
      "        [-1.6754, -0.5217,  0.5703,  1.0984,  0.5703,  1.0984],\n",
      "        [ 0.5703,  1.0984,  0.5703,  1.0984, -0.9552, -0.2908],\n",
      "        [ 0.2029, -0.1225,  0.2029, -0.1225,  0.2029, -0.1225],\n",
      "        [ 0.2029, -0.1225,  0.2029, -0.1225, -0.9710, -1.0740],\n",
      "        [ 0.2029, -0.1225, -0.9710, -1.0740, -0.9158, -1.0278],\n",
      "        [-0.9710, -1.0740, -0.9158, -1.0278, -0.4916,  0.0386],\n",
      "        [-0.9158, -1.0278, -0.4916,  0.0386, -0.8037,  1.0420],\n",
      "        [-0.4916,  0.0386, -0.8037,  1.0420, -0.4916,  0.0386],\n",
      "        [-0.8037,  1.0420, -0.4916,  0.0386, -0.9552, -0.2908],\n",
      "        [ 0.2029, -0.1225,  0.2029, -0.1225,  0.2029, -0.1225],\n",
      "        [ 0.2029, -0.1225,  0.2029, -0.1225, -0.9552, -0.2908],\n",
      "        [ 0.2029, -0.1225, -0.9552, -0.2908, -0.8037,  1.0420],\n",
      "        [-0.9552, -0.2908, -0.8037,  1.0420, -0.9552, -0.2908],\n",
      "        [ 0.2029, -0.1225,  0.2029, -0.1225,  0.2029, -0.1225],\n",
      "        [ 0.2029, -0.1225,  0.2029, -0.1225, -0.4916,  0.0386],\n",
      "        [ 0.2029, -0.1225, -0.4916,  0.0386, -0.9198,  0.6925],\n",
      "        [-0.4916,  0.0386, -0.9198,  0.6925, -0.9552, -0.2908],\n",
      "        [-0.9198,  0.6925, -0.9552, -0.2908,  0.6206, -1.8404],\n",
      "        [-0.9552, -0.2908,  0.6206, -1.8404, -1.6754, -0.5217],\n",
      "        [ 0.6206, -1.8404, -1.6754, -0.5217, -0.9158, -1.0278],\n",
      "        [-1.6754, -0.5217, -0.9158, -1.0278, -0.9158, -1.0278],\n",
      "        [-0.9158, -1.0278, -0.9158, -1.0278, -0.9552, -0.2908],\n",
      "        [ 0.2029, -0.1225,  0.2029, -0.1225,  0.2029, -0.1225],\n",
      "        [ 0.2029, -0.1225,  0.2029, -0.1225, -0.9198,  0.6925],\n",
      "        [ 0.2029, -0.1225, -0.9198,  0.6925, -0.9710, -1.0740],\n",
      "        [-0.9198,  0.6925, -0.9710, -1.0740,  0.9199, -0.4482],\n",
      "        [-0.9710, -1.0740,  0.9199, -0.4482,  1.6001,  1.1604],\n",
      "        [ 0.9199, -0.4482,  1.6001,  1.1604, -0.4916,  0.0386],\n",
      "        [ 1.6001,  1.1604, -0.4916,  0.0386, -0.9552, -0.2908]])\n"
     ]
    },
    {
     "data": {
      "text/plain": [
       "tensor([[True, True, True, True, True, True],\n",
       "        [True, True, True, True, True, True],\n",
       "        [True, True, True, True, True, True],\n",
       "        [True, True, True, True, True, True],\n",
       "        [True, True, True, True, True, True],\n",
       "        [True, True, True, True, True, True],\n",
       "        [True, True, True, True, True, True],\n",
       "        [True, True, True, True, True, True],\n",
       "        [True, True, True, True, True, True],\n",
       "        [True, True, True, True, True, True],\n",
       "        [True, True, True, True, True, True],\n",
       "        [True, True, True, True, True, True],\n",
       "        [True, True, True, True, True, True],\n",
       "        [True, True, True, True, True, True],\n",
       "        [True, True, True, True, True, True],\n",
       "        [True, True, True, True, True, True],\n",
       "        [True, True, True, True, True, True],\n",
       "        [True, True, True, True, True, True],\n",
       "        [True, True, True, True, True, True],\n",
       "        [True, True, True, True, True, True],\n",
       "        [True, True, True, True, True, True],\n",
       "        [True, True, True, True, True, True],\n",
       "        [True, True, True, True, True, True],\n",
       "        [True, True, True, True, True, True],\n",
       "        [True, True, True, True, True, True],\n",
       "        [True, True, True, True, True, True],\n",
       "        [True, True, True, True, True, True],\n",
       "        [True, True, True, True, True, True],\n",
       "        [True, True, True, True, True, True],\n",
       "        [True, True, True, True, True, True],\n",
       "        [True, True, True, True, True, True],\n",
       "        [True, True, True, True, True, True]])"
      ]
     },
     "execution_count": 125,
     "metadata": {},
     "output_type": "execute_result"
    }
   ],
   "source": [
    "# check embedding size\n",
    "print(emb.shape)\n",
    "\n",
    "# we can use view() to treate it as (32, 6)\n",
    "print(emb.view(32, 6))\n",
    "\n",
    "# verify the results are same when using view and cat\n",
    "emb.view(32, 6) == torch.cat(torch.unbind(emb, 1), 1)"
   ]
  },
  {
   "cell_type": "code",
   "execution_count": 126,
   "id": "0e844a1e-dc25-4b6a-82c3-314ab5b4aa8b",
   "metadata": {},
   "outputs": [
    {
     "data": {
      "text/plain": [
       "tensor([[-0.9741,  1.3453, -1.1308,  ..., -0.0494, -0.7475,  1.2418],\n",
       "        [ 2.3121,  3.4003, -0.1486,  ..., -2.5865,  0.7108, -1.7986],\n",
       "        [-3.1275,  4.1361, -3.4647,  ..., -1.3200, -7.2806,  6.6168],\n",
       "        ...,\n",
       "        [-1.6972,  0.2364,  0.1735,  ..., -0.6546, -1.6246,  5.7556],\n",
       "        [ 0.7710,  0.0356, -1.2326,  ..., -0.9700,  2.3954, -4.2220],\n",
       "        [-0.8593,  3.2701, -4.5040,  ..., -0.1740, -1.6253, -3.1455]])"
      ]
     },
     "execution_count": 126,
     "metadata": {},
     "output_type": "execute_result"
    }
   ],
   "source": [
    "# back to the hidden state layer\n",
    "emb.view(32, 6) @ W1 + b1#"
   ]
  },
  {
   "cell_type": "code",
   "execution_count": 127,
   "id": "57017bce-cb13-4938-8d0c-cca42fe662e3",
   "metadata": {},
   "outputs": [
    {
     "data": {
      "text/plain": [
       "torch.Size([32, 100])"
      ]
     },
     "execution_count": 127,
     "metadata": {},
     "output_type": "execute_result"
    }
   ],
   "source": [
    "# assign to hidden layer, we get \n",
    "h = emb.view(32, 6) @ W1 + b1\n",
    "h.shape\n",
    "# for every one of 32 examples, we have 100 dimensional activations neurons"
   ]
  },
  {
   "cell_type": "code",
   "execution_count": 130,
   "id": "a63ae51e-fdbf-4768-acef-6812aab1dc2a",
   "metadata": {},
   "outputs": [
    {
     "data": {
      "text/plain": [
       "tensor([[-0.9741,  1.3453, -1.1308,  ..., -0.0494, -0.7475,  1.2418],\n",
       "        [ 2.3121,  3.4003, -0.1486,  ..., -2.5865,  0.7108, -1.7986],\n",
       "        [-3.1275,  4.1361, -3.4647,  ..., -1.3200, -7.2806,  6.6168],\n",
       "        ...,\n",
       "        [-1.6972,  0.2364,  0.1735,  ..., -0.6546, -1.6246,  5.7556],\n",
       "        [ 0.7710,  0.0356, -1.2326,  ..., -0.9700,  2.3954, -4.2220],\n",
       "        [-0.8593,  3.2701, -4.5040,  ..., -0.1740, -1.6253, -3.1455]])"
      ]
     },
     "execution_count": 130,
     "metadata": {},
     "output_type": "execute_result"
    }
   ],
   "source": [
    "# refactor without using harded value\n",
    "# h = emb.view(emb.shape[0], 6) @ W1 + b1  # we use value from shape\n",
    "h = emb.view(-1, 6) @ W1 + b1   # use -1 so pytorch will infer the value\n",
    "                                # because number of elemnents must be same\n",
    "                                # (x) * 6 = (x) * 3 * 2, x = 32, \n",
    "                                # pytorch derive x must be 32\n",
    "h"
   ]
  },
  {
   "cell_type": "code",
   "execution_count": 131,
   "id": "8b62446e-4ea2-47bb-835e-df9edd412c7f",
   "metadata": {},
   "outputs": [
    {
     "data": {
      "text/plain": [
       "tensor([[-0.7505,  0.8729, -0.8113,  ..., -0.0493, -0.6337,  0.8460],\n",
       "        [ 0.9806,  0.9978, -0.1475,  ..., -0.9887,  0.6112, -0.9467],\n",
       "        [-0.9962,  0.9995, -0.9980,  ..., -0.8668, -1.0000,  1.0000],\n",
       "        ...,\n",
       "        [-0.9351,  0.2320,  0.1718,  ..., -0.5747, -0.9253,  1.0000],\n",
       "        [ 0.6475,  0.0356, -0.8433,  ..., -0.7487,  0.9835, -0.9996],\n",
       "        [-0.6959,  0.9971, -0.9998,  ..., -0.1723, -0.9254, -0.9963]])"
      ]
     },
     "execution_count": 131,
     "metadata": {},
     "output_type": "execute_result"
    }
   ],
   "source": [
    "# to calculate h, we use tanh to get values between -1 and 1\n",
    "h = torch.tanh(emb.view(-1, 6) @ W1 + b1)\n",
    "h"
   ]
  },
  {
   "cell_type": "code",
   "execution_count": 133,
   "id": "0ac88edc-0df4-4201-91f4-c2064be14014",
   "metadata": {},
   "outputs": [
    {
     "name": "stdout",
     "output_type": "stream",
     "text": [
      "torch.Size([32, 100])\n"
     ]
    }
   ],
   "source": [
    "print(h.shape) \n",
    "# this is the hidden layer of activation\n",
    "# for every of 32 examples"
   ]
  },
  {
   "cell_type": "code",
   "execution_count": 134,
   "id": "b0b334cc-ba21-43c9-b33d-a7c0cfc1d926",
   "metadata": {},
   "outputs": [
    {
     "data": {
      "text/plain": [
       "torch.Size([32, 100])"
      ]
     },
     "execution_count": 134,
     "metadata": {},
     "output_type": "execute_result"
    }
   ],
   "source": [
    "# here is what we do with \"+ b1\", the broadcast operation\n",
    "(emb.view(-1, 6) @ W1).shape"
   ]
  },
  {
   "cell_type": "code",
   "execution_count": 135,
   "id": "cffdf766-5566-452b-b978-25319d68ab62",
   "metadata": {},
   "outputs": [
    {
     "data": {
      "text/plain": [
       "torch.Size([100])"
      ]
     },
     "execution_count": 135,
     "metadata": {},
     "output_type": "execute_result"
    }
   ],
   "source": [
    "b1.shape"
   ]
  },
  {
   "cell_type": "code",
   "execution_count": 136,
   "id": "aa70f62a-51d1-4edf-a897-74dd13067e7e",
   "metadata": {},
   "outputs": [],
   "source": [
    "# the addition will broadcast these 2\n",
    "# 32, 100   # broadcast to 100\n",
    "#  1, 100   # create a fake 1 by 100 row vector\n",
    "# copy over using broadcast addition for b1, bias\n",
    "# h = emb.view(32, 6) @ W1 + b1"
   ]
  },
  {
   "cell_type": "code",
   "execution_count": 137,
   "id": "9cd9c568-5dc1-4fd2-9574-b1fa3e325692",
   "metadata": {},
   "outputs": [],
   "source": [
    "# finally, we create final layer\n",
    "W2 = torch.randn(100, 27)   # we have 27 possible characters coming next\n",
    "b2 = torch.randn(27)        # bias also set to 27\n"
   ]
  },
  {
   "cell_type": "code",
   "execution_count": 141,
   "id": "fec64255-f6a0-4328-ae10-fdcc7ae54b30",
   "metadata": {},
   "outputs": [],
   "source": [
    "logits = h @ W2 + b2\n",
    "\n",
    "# why logits?\n",
    "# The expression logits = h @ W2 + b2 is commonly seen in the final layer\n",
    "# of a neural network during machine learning training, \n",
    "# particularly in classification tasks.\n",
    "# Logits can range from negative infinity to positive infinity. \n",
    "# In multi-class classification, these are typically \n",
    "# transformed into probabilities using the softmax function.\n",
    "\n",
    "# logits\n",
    "# the vector of raw (non-normalized) predictions that a classification model \n",
    "# generates, which is ordinarily then passed to a normalization function. \n",
    "# If the model is solving a multi-class classification problem, \n",
    "# logits typically become an input to the softmax function. \n",
    "# The softmax function then generates a vector of (normalized) probabilities \n",
    "# with one value for each possible class.\n",
    "\n",
    "# TensorFlow domain, logits are the values to be used as input to softmax.\n",
    "\n",
    "# Logits Layer\n",
    "# The final layer in our neural network is the logits layer, which will return \n",
    "# the raw values for our predictions. We create a dense layer with 10 neurons \n",
    "# (one for each target class 0–9), with linear activation (the default):\n",
    "# logits = tf.layers.dense(inputs=dropout, units=10)\n",
    "                                                                                                                                                          "
   ]
  },
  {
   "cell_type": "code",
   "execution_count": 139,
   "id": "e6ca68a9-be29-4fcd-9e3d-20cfbe84c163",
   "metadata": {},
   "outputs": [
    {
     "data": {
      "text/plain": [
       "torch.Size([32, 27])"
      ]
     },
     "execution_count": 139,
     "metadata": {},
     "output_type": "execute_result"
    }
   ],
   "source": [
    "logits.shape"
   ]
  },
  {
   "cell_type": "code",
   "execution_count": 144,
   "id": "a525465b-0815-4b24-971b-6e6a6d35bf01",
   "metadata": {
    "collapsed": true,
    "jupyter": {
     "outputs_hidden": true
    }
   },
   "outputs": [
    {
     "data": {
      "text/plain": [
       "tensor([[  1.0269,  -3.6410,  -5.6520,  -2.4104,  -5.3931,   1.2725,  -0.9454,\n",
       "          -0.5645,  -0.1680,   0.0649,  -8.1588,   1.4206,  -9.1427,  16.8950,\n",
       "          -1.4107,  -0.5246,  -0.6414,   5.5480,   1.5278,  -4.8833,  -7.1160,\n",
       "           1.9735,  -8.8703,   6.0734,   0.4924,  11.7541, -12.6617],\n",
       "        [  1.6705,  -0.6675,  -3.7654,  -6.1269,  -1.2130,  -2.7828,  -2.4969,\n",
       "          -1.5790,  20.3307,  -9.9632,   0.0625,   4.4554,  -4.2708,  14.2083,\n",
       "           1.9571,   1.4406,  -1.4997,   3.3357,   6.7425,  -3.5676,  -7.2011,\n",
       "          -3.5109,  -6.7805,  -1.3008,  -8.3231,  -3.0975,  -3.6173]])"
      ]
     },
     "execution_count": 144,
     "metadata": {},
     "output_type": "execute_result"
    }
   ],
   "source": [
    "# check first 2 output\n",
    "logits[:2]"
   ]
  },
  {
   "cell_type": "code",
   "execution_count": 145,
   "id": "9a21ec11-4ba0-440d-a0d2-8f1fa9ce9a32",
   "metadata": {},
   "outputs": [],
   "source": [
    "# first we take logits, and exponentiate them to get fake counts\n",
    "# then normalize them into  aprobability\n",
    "counts = logits.exp()\n",
    "prob = counts / counts.sum(1, keepdims=True)   # 1 first dimension"
   ]
  },
  {
   "cell_type": "code",
   "execution_count": 149,
   "id": "bda81fcd-b1c1-4f85-b0b6-2111757b9394",
   "metadata": {},
   "outputs": [
    {
     "name": "stdout",
     "output_type": "stream",
     "text": [
      "torch.Size([32, 27])\n",
      "tensor(1.0000)\n"
     ]
    }
   ],
   "source": [
    "print(prob.shape)      # shape matches\n",
    "print(prob[0].sum())   # sum of each row = 1, so it is normalized"
   ]
  },
  {
   "cell_type": "code",
   "execution_count": 150,
   "id": "aece99f0-d151-49a2-b192-ca39864566ae",
   "metadata": {},
   "outputs": [
    {
     "data": {
      "text/plain": [
       "tensor([ 0,  1,  2,  3,  4,  5,  6,  7,  8,  9, 10, 11, 12, 13, 14, 15, 16, 17,\n",
       "        18, 19, 20, 21, 22, 23, 24, 25, 26, 27, 28, 29, 30, 31])"
      ]
     },
     "execution_count": 150,
     "metadata": {},
     "output_type": "execute_result"
    }
   ],
   "source": [
    "# now we use Y labels to match probability\n",
    "torch.arange(32)"
   ]
  },
  {
   "cell_type": "code",
   "execution_count": 152,
   "id": "dafaf408-cf33-4884-a49f-4a2f20cd561b",
   "metadata": {},
   "outputs": [
    {
     "data": {
      "text/plain": [
       "tensor([1.6318e-07, 2.1884e-03, 1.5879e-02, 9.6665e-01, 1.6983e-11, 2.7052e-08,\n",
       "        2.8058e-09, 9.6034e-08, 1.5731e-11, 1.8516e-08, 4.3194e-11, 7.9973e-10,\n",
       "        1.1988e-09, 1.4541e-11, 1.1189e-15, 6.7349e-07, 4.8777e-08, 1.9313e-11,\n",
       "        1.4140e-15, 9.0826e-05, 2.3189e-08, 6.7347e-05, 1.6816e-08, 6.6465e-07,\n",
       "        2.1120e-06, 3.4615e-10, 1.1462e-09, 5.5332e-10, 1.4726e-09, 5.7844e-06,\n",
       "        7.1978e-08, 8.2742e-07])"
      ]
     },
     "execution_count": 152,
     "metadata": {},
     "output_type": "execute_result"
    }
   ],
   "source": [
    "# we can index the prob the following way\n",
    "# for each of 32 rows, we grab from Y column\n",
    "# this is the current prob assigned by this neural network\n",
    "# however, we have not trained neural network yet\n",
    "# idealy the results should be 1, when we perfect predict the characters\n",
    "prob[torch.arange(32), Y]  "
   ]
  },
  {
   "cell_type": "code",
   "execution_count": 165,
   "id": "cf75bad5-efc2-48a4-89b4-7f1e51363e10",
   "metadata": {},
   "outputs": [
    {
     "data": {
      "text/plain": [
       "tensor(17.7758)"
      ]
     },
     "execution_count": 165,
     "metadata": {},
     "output_type": "execute_result"
    }
   ],
   "source": [
    "# we also want to look at the log probability log()\n",
    "# and the average of probability\n",
    "# and negative it -1, to create loss function\n",
    "\n",
    "loss = -prob[torch.arange(32), Y].log().mean()\n",
    "loss    # we want to minimize it, to allow network to predict the correct \n",
    "        # the next character in the sequence\n",
    "\n",
    "# why use log()?\n",
    "# In maximum likelihood estimation, the goal is to maximize the likelihood \n",
    "# of observing the true labels given the model's predictions. \n",
    "# Maximizing the product of probabilities is equivalent to maximizing \n",
    "# the sum of their logarithms (since log(a*b) = log(a) + log(b)). \n",
    "# Summing is computationally more stable and easier to work with \n",
    "# than multiplying many small probabilities.\n",
    "\n",
    "# why use negative sign -\n",
    "# The negative sign - before log() converts the log-likelihood into a \n",
    "# loss function. When training a model, the objective is to minimize the loss. \n",
    "# Minimizing the negative log-likelihood is equivalent to maximizing \n",
    "# the log-likelihood (and thus the likelihood).\n",
    "\n",
    "# Minimizing the Negative Log Likelihood (NLL)\n"
   ]
  },
  {
   "cell_type": "code",
   "execution_count": 157,
   "id": "ed79ae7d-0b67-4334-aa73-dab1fae4b0cb",
   "metadata": {},
   "outputs": [
    {
     "data": {
      "text/plain": [
       "(torch.Size([32, 3]), torch.Size([32]))"
      ]
     },
     "execution_count": 157,
     "metadata": {},
     "output_type": "execute_result"
    }
   ],
   "source": [
    "# Below is re-write above code to make it respectable\n",
    "X.shape, Y.shape  # this is the dataset"
   ]
  },
  {
   "cell_type": "code",
   "execution_count": 159,
   "id": "8724c0d9-e649-47ae-adca-3ecba3bfd263",
   "metadata": {},
   "outputs": [
    {
     "name": "stdout",
     "output_type": "stream",
     "text": [
      "3481\n"
     ]
    }
   ],
   "source": [
    "g = torch.Generator().manual_seed(42)   # for reproducibility\n",
    "C = torch.randn((27, 2), generator=g)   # indexing lookup table\n",
    "W1 = torch.randn((6, 100), generator=g)  # hidden layer\n",
    "b1 = torch.randn(100, generator=g)       # hidden layer bias \n",
    "W2 = torch.randn((100, 27), generator=g)  # final layer\n",
    "b2 = torch.randn(27, generator=g)         # final layer bias\n",
    "parameters = [C, W1, b1, W2, b2]          # cluster all together to count paramters\n",
    "\n",
    "print(sum(p.nelement() for p in parameters))  # number of parameters in total"
   ]
  },
  {
   "cell_type": "code",
   "execution_count": 189,
   "id": "3d479247-139a-4020-9258-2d38184634ed",
   "metadata": {},
   "outputs": [
    {
     "data": {
      "text/plain": [
       "tensor(17.7758)"
      ]
     },
     "execution_count": 189,
     "metadata": {},
     "output_type": "execute_result"
    }
   ],
   "source": [
    "# forward path we devloped above\n",
    "emb = C[X]  # [32, 3, 2]\n",
    "h = torch.tanh(emb.view(-1, 6) @ W1 + b1)\n",
    "logits = h @ W2 + b2   # (32, 27)\n",
    "counts = logits.exp()\n",
    "\n",
    "# below block is not efficient to run, create new tensors in memory\n",
    "# backward pass is complicted mathematically\n",
    "##\n",
    "prob = counts / counts.sum(1, keepdims=True)\n",
    "# loss = prob[torch.arange(32), Y].log().shape   # torch.Size([32]) \n",
    "# loss = prob[torch.arange(32), Y].log().mean()     # tensor(-17.7758)\n",
    "loss = -prob[torch.arange(32), Y].log().mean()\n",
    "##\n",
    "\n",
    "loss   # the single number of loss\n",
    "# take logits to calculate loss for classification problem"
   ]
  },
  {
   "cell_type": "code",
   "execution_count": 190,
   "id": "7a007c46-28a7-4e0e-a559-5174855c0602",
   "metadata": {},
   "outputs": [
    {
     "data": {
      "text/plain": [
       "tensor(17.7758)"
      ]
     },
     "execution_count": 190,
     "metadata": {},
     "output_type": "execute_result"
    }
   ],
   "source": [
    "# pytorch has a better efficient way of using cross entropy just for this\n",
    "# which has the same result\n",
    "# many reasons of using pytorch cross_entropy, rather above self implementations\n",
    "# run in less kernel, less memory, numerically well behaved\n",
    "# 1 forward pass efficient\n",
    "# 2 backward pass efficient\n",
    "# 3 numerically well behaved\n",
    "F.cross_entropy(logits, Y)"
   ]
  },
  {
   "cell_type": "code",
   "execution_count": 191,
   "id": "305b90ba-da13-416b-a69b-1a92ee185c44",
   "metadata": {},
   "outputs": [
    {
     "data": {
      "text/plain": [
       "tensor([4.5079e-05, 3.3309e-04, 6.6903e-03, 9.9293e-01])"
      ]
     },
     "execution_count": 191,
     "metadata": {},
     "output_type": "execute_result"
    }
   ],
   "source": [
    "# an example of cross_entropy() which numerically well behaved\n",
    "logits = torch.tensor([-5, -3, 0, 5])\n",
    "counts = logits.exp()\n",
    "probs = counts / counts.sum()\n",
    "probs  # all goods"
   ]
  },
  {
   "cell_type": "code",
   "execution_count": 192,
   "id": "256b2c9c-1b2e-4d81-b62c-0830df4a4636",
   "metadata": {},
   "outputs": [
    {
     "data": {
      "text/plain": [
       "tensor([0.0067, 0.0498, 1.0000,    inf])"
      ]
     },
     "execution_count": 192,
     "metadata": {},
     "output_type": "execute_result"
    }
   ],
   "source": [
    "logits = torch.tensor([-5, -3, 0, 100])\n",
    "counts = logits.exp()\n",
    "counts   # not good, logits.exp(100) overflow, \n",
    "# tensor([0.0067, 0.0498, 1.0000,    inf])"
   ]
  },
  {
   "cell_type": "code",
   "execution_count": 193,
   "id": "e701acf3-3680-4de2-9f44-ba1c15d95de4",
   "metadata": {},
   "outputs": [
    {
     "data": {
      "text/plain": [
       "tensor([0.0000e+00, 1.4013e-45, 3.7835e-44, 1.0000e+00])"
      ]
     },
     "execution_count": 193,
     "metadata": {},
     "output_type": "execute_result"
    }
   ],
   "source": [
    "# what pytorch does internally, -100\n",
    "logits = torch.tensor([-5, -3, 0, 100]) - 100\n",
    "counts = logits.exp()\n",
    "counts   # no 'inf'"
   ]
  },
  {
   "cell_type": "code",
   "execution_count": 196,
   "id": "9db3563c-5edd-44cd-8087-1d3e6088a0f2",
   "metadata": {},
   "outputs": [
    {
     "name": "stdout",
     "output_type": "stream",
     "text": [
      "0.25287145376205444\n"
     ]
    }
   ],
   "source": [
    "# now we setup the training of this neural net\n",
    "for p in parameters:\n",
    "    p.requires_grad = True  # enable gradient\n",
    "\n",
    "# for _ in range(10):  # epochs\n",
    "for _ in range(1000):  # epochs\n",
    "    # forward pass\n",
    "    emb = C[X]  # (32, 3, 2)\n",
    "    h = torch.tanh(emb.view(-1, 6) @ W1 + b1)  # (32, 100) \n",
    "    logits = h @ W2 + b2  # 32, 27)\n",
    "    loss = F.cross_entropy(logits, Y)\n",
    "    # print(loss.item())\n",
    "    # backward pass\n",
    "    for p in parameters:\n",
    "        p.grad = None   # same as setting to zero in pytorch, disable it\n",
    "                        # so backward path not add new values\n",
    "                        # backward will uses current values already created in forward path\n",
    "    loss.backward()     # populate backward to populate gradients\n",
    "    # update\n",
    "    for p in parameters:\n",
    "        p.data += -0.1 * p.grad   # -0.1 learning rate \n",
    "                                  # can change to -0.01 and other values\n",
    "# we see loss value descreasing\n",
    "print(loss.item())   # after 1000 iterations, we get very very low loss\n",
    "                    # we make very good predictions\n",
    "                    # overfitting here!!\n",
    "                    # why? we only overfitting 32 examples from first 5 words\n",
    "                    # very easy to make these 32 examples fit with \n",
    "                    # total parameters = [C, W1, b1, W2, b2]  = 3481 \n",
    "                    # so many parameters for so few examples\n"
   ]
  },
  {
   "cell_type": "code",
   "execution_count": 197,
   "id": "9d9883d0-e678-42ff-b367-1f61feed4ecf",
   "metadata": {},
   "outputs": [
    {
     "data": {
      "text/plain": [
       "torch.return_types.max(\n",
       "values=tensor([11.1833, 15.2753, 14.0977, 15.6754, 22.3369, 11.1833, 15.8866, 20.9870,\n",
       "        13.8914, 15.7653, 12.3266, 21.6826, 11.1833, 17.6400, 14.2953, 18.8668,\n",
       "        11.1833, 12.5343, 14.5744, 16.9000, 16.9572, 16.8277, 19.4549, 16.8904,\n",
       "        19.0334, 11.1833, 13.6770, 14.0749, 14.7409, 18.1967, 13.9223, 23.1386],\n",
       "       grad_fn=<MaxBackward0>),\n",
       "indices=tensor([19, 13, 13,  1,  0, 19, 12,  9, 22,  9,  1,  0, 19, 22,  1,  0, 19, 19,\n",
       "         1,  2,  5, 12, 12,  1,  0, 19, 15, 16,  8,  9,  1,  0]))"
      ]
     },
     "execution_count": 197,
     "metadata": {},
     "output_type": "execute_result"
    }
   ],
   "source": [
    "# we will not be able to reach loss of 0\n",
    "# the logits and Y have some differences\n",
    "# indices (19, 13, 13, ...)    # predicted\n",
    "# Y ([5, 13, 13, ...])    # actual\n",
    "# now we need to normalize the dataset to fix overfitting\n",
    "logits.max(1)"
   ]
  },
  {
   "cell_type": "code",
   "execution_count": 198,
   "id": "31be6851-4ba7-4655-9b2c-be7c904be28a",
   "metadata": {},
   "outputs": [
    {
     "data": {
      "text/plain": [
       "tensor([ 5, 13, 13,  1,  0, 15, 12,  9, 22,  9,  1,  0,  1, 22,  1,  0,  9, 19,\n",
       "         1,  2,  5, 12, 12,  1,  0, 19, 15, 16,  8,  9,  1,  0])"
      ]
     },
     "execution_count": 198,
     "metadata": {},
     "output_type": "execute_result"
    }
   ],
   "source": [
    "Y"
   ]
  },
  {
   "cell_type": "code",
   "execution_count": 199,
   "id": "e5df2146-8616-4aa2-b655-63da360169fd",
   "metadata": {},
   "outputs": [],
   "source": [
    "# fix overfitting issue due to limited examples in dataset \n",
    "# repeat dataset code to load all words\n",
    "block_size = 3\n",
    "X, Y = [],[]\n",
    "for w in words:   # !!! use all words, not just 5\n",
    "    context = [0] * block_size \n",
    "    for ch in w + '.':\n",
    "        ix = stoi[ch]\n",
    "        X.append(context)\n",
    "        Y.append(ix)\n",
    "        context = context[1:] + [ix]  # sliding window\n",
    "X = torch.tensor(X)\n",
    "Y = torch.tensor(Y)"
   ]
  },
  {
   "cell_type": "code",
   "execution_count": 200,
   "id": "1c576455-b860-4012-932b-1d78864bd582",
   "metadata": {},
   "outputs": [
    {
     "name": "stdout",
     "output_type": "stream",
     "text": [
      "3481\n"
     ]
    }
   ],
   "source": [
    "# repeat code\n",
    "g = torch.Generator().manual_seed(42)   # for reproducibility\n",
    "C = torch.randn((27, 2), generator=g)   # indexing lookup table\n",
    "W1 = torch.randn((6, 100), generator=g)  # hidden layer\n",
    "b1 = torch.randn(100, generator=g)       # hidden layer bias \n",
    "W2 = torch.randn((100, 27), generator=g)  # final layer\n",
    "b2 = torch.randn(27, generator=g)         # final layer bias\n",
    "parameters = [C, W1, b1, W2, b2]          # cluster all together to count paramters\n",
    "\n",
    "print(sum(p.nelement() for p in parameters))  # number of parameters in total"
   ]
  },
  {
   "cell_type": "code",
   "execution_count": 201,
   "id": "8ea66fdd-d20f-4375-91f5-78e6d4612c0e",
   "metadata": {},
   "outputs": [
    {
     "name": "stdout",
     "output_type": "stream",
     "text": [
      "2.5217928886413574\n"
     ]
    }
   ],
   "source": [
    "# repeat code\n",
    "# now we setup the training of this neural net\n",
    "for p in parameters:\n",
    "    p.requires_grad = True  # enable gradient\n",
    "\n",
    "# for _ in range(10):  # epochs\n",
    "for _ in range(1000):  # epochs\n",
    "    # forward pass\n",
    "    emb = C[X]  # (32, 3, 2)\n",
    "    h = torch.tanh(emb.view(-1, 6) @ W1 + b1)  # (32, 100) \n",
    "    logits = h @ W2 + b2  # 32, 27)\n",
    "    loss = F.cross_entropy(logits, Y)\n",
    "    # print(loss.item())\n",
    "    # backward pass\n",
    "    for p in parameters:\n",
    "        p.grad = None   # same as setting to zero in pytorch, disable it\n",
    "                        # so backward path not add new values\n",
    "                        # backward will uses current values already created in forward path\n",
    "    loss.backward()     # populate backward to populate gradients\n",
    "    # update\n",
    "    for p in parameters:\n",
    "        p.data += -0.1 * p.grad   # -0.1 learning rate \n",
    "                                  # can change to -0.01 and other values\n",
    "# we see loss value descreasing\n",
    "print(loss.item()) \n",
    "\n",
    "# !!! this training process takes too much time, overload too much work with all examples\n",
    "# because it takes forward, backward, and update for all examples of 228146\n",
    "# the above calculation took 5+ minutes about"
   ]
  },
  {
   "cell_type": "code",
   "execution_count": 202,
   "id": "611dce36-4f3a-43d9-8bc1-d10ea01a5069",
   "metadata": {},
   "outputs": [
    {
     "data": {
      "text/plain": [
       "tensor([1, 0, 2, 1, 2, 1, 0, 2, 0, 2, 4, 0, 2, 2, 0, 0, 4, 2, 0, 3, 1, 1, 4, 1,\n",
       "        3, 1, 0, 3, 2, 0, 2, 4])"
      ]
     },
     "execution_count": 202,
     "metadata": {},
     "output_type": "execute_result"
    }
   ],
   "source": [
    "# let's address this problem\n",
    "# in general, forward, backward, and update on mini-batched data from dataset randomly selected\n",
    "torch.randint(0, 5, (32,))   # random numbers between 0 to 5, 32 of them\n"
   ]
  },
  {
   "cell_type": "code",
   "execution_count": 206,
   "id": "35818681-9831-403a-8a82-a580109b92cc",
   "metadata": {},
   "outputs": [
    {
     "data": {
      "text/plain": [
       "tensor([193405, 166759,  32970, 225440, 109893,  83194,  56437,  71602,  86802,\n",
       "        128775,  15768,  14613, 109109,  23244, 181964,  39587,  17776, 144912,\n",
       "        153663, 160664, 126313,  81922,  86786, 192124,  92246, 105630, 119957,\n",
       "        215429, 163105,  31018, 151536,  64807])"
      ]
     },
     "execution_count": 206,
     "metadata": {},
     "output_type": "execute_result"
    }
   ],
   "source": [
    "# but we want to use the input size\n",
    "# X.shape \n",
    "# torch.Size([228146, 3])\n",
    "# mini-batch size is 32\n",
    "torch.randint(0, X.shape[0], (32,))"
   ]
  },
  {
   "cell_type": "code",
   "execution_count": 204,
   "id": "8edee09e-6388-4d36-b829-ac107eb3a24c",
   "metadata": {},
   "outputs": [
    {
     "data": {
      "text/plain": [
       "torch.Size([228146, 3])"
      ]
     },
     "execution_count": 204,
     "metadata": {},
     "output_type": "execute_result"
    }
   ],
   "source": [
    "X.shape"
   ]
  },
  {
   "cell_type": "code",
   "execution_count": 232,
   "id": "1c1b2815-1f62-497c-b075-2a9feb1e451e",
   "metadata": {},
   "outputs": [
    {
     "name": "stdout",
     "output_type": "stream",
     "text": [
      "2.376688003540039\n"
     ]
    }
   ],
   "source": [
    "# repeat code with mini-batch\n",
    "for p in parameters:\n",
    "    p.requires_grad = True  # enable gradient\n",
    "    \n",
    "for _ in range(1000):\n",
    "    # minibatch construct\n",
    "    ix = torch.randint(0, X.shape[0], (32,))\n",
    "\n",
    "    # forward pass \n",
    "    emb = C[X[ix]]  # !! changed, only randomly selected rows\n",
    "    h = torch.tanh(emb.view(-1, 6) @ W1 + b1)  # (32, 100)\n",
    "    logits = h @ W2 + b2   # (32, 27)\n",
    "    loss = F.cross_entropy(logits, Y[ix])   # !! changed\n",
    "    # print(loss.item())\n",
    "    # backward pass\n",
    "    for p in parameters:\n",
    "        p.grad = None\n",
    "    loss.backward()\n",
    "    # update\n",
    "    for p in parameters:\n",
    "        p.data += -0.1 * p.grad\n",
    "# running is very fast now\n",
    "# however, the quality of gradient is lower, but it is good enough\n",
    "# we can use approximate gradients with more steps, rather exact gradient with fewer steps\n",
    "print(loss.item())"
   ]
  },
  {
   "cell_type": "code",
   "execution_count": null,
   "id": "c0205555-e165-4631-8754-8910fd6a735a",
   "metadata": {},
   "outputs": [],
   "source": []
  },
  {
   "cell_type": "code",
   "execution_count": null,
   "id": "8eecb7d4-a612-4988-80b9-7d65c6a053f6",
   "metadata": {},
   "outputs": [],
   "source": []
  },
  {
   "cell_type": "code",
   "execution_count": 228,
   "id": "a79209db-bc1e-4a90-bd8f-897b64113a51",
   "metadata": {},
   "outputs": [],
   "source": [
    "# repeat dataset code to load all words again to find reasonable learning rate\n",
    "# first testing between small values (-0.0001) to exploding values (1, 10)\n",
    "# then use torch.linspace(0.001, 1, 1000)  # between 0.001 to 1, with 1000 steps\n",
    "block_size = 3\n",
    "X, Y = [],[]\n",
    "for w in words:   # !!! use all words, not just 5\n",
    "    context = [0] * block_size \n",
    "    for ch in w + '.':\n",
    "        ix = stoi[ch]\n",
    "        X.append(context)\n",
    "        Y.append(ix)\n",
    "        context = context[1:] + [ix]  # sliding window\n",
    "X = torch.tensor(X)\n",
    "Y = torch.tensor(Y)"
   ]
  },
  {
   "cell_type": "code",
   "execution_count": 229,
   "id": "280dcd7b-f815-4389-a624-e6cfd701429f",
   "metadata": {},
   "outputs": [
    {
     "name": "stdout",
     "output_type": "stream",
     "text": [
      "3481\n"
     ]
    }
   ],
   "source": [
    "# repeat code\n",
    "g = torch.Generator().manual_seed(42)   # for reproducibility\n",
    "C = torch.randn((27, 2), generator=g)   # indexing lookup table\n",
    "W1 = torch.randn((6, 100), generator=g)  # hidden layer\n",
    "b1 = torch.randn(100, generator=g)       # hidden layer bias \n",
    "W2 = torch.randn((100, 27), generator=g)  # final layer\n",
    "b2 = torch.randn(27, generator=g)         # final layer bias\n",
    "parameters = [C, W1, b1, W2, b2]          # cluster all together to count paramters\n",
    "\n",
    "print(sum(p.nelement() for p in parameters))  # number of parameters in total"
   ]
  },
  {
   "cell_type": "code",
   "execution_count": 235,
   "id": "0f38d466-4092-4cde-8eec-94f14cbf814a",
   "metadata": {},
   "outputs": [
    {
     "name": "stdout",
     "output_type": "stream",
     "text": [
      "2.590359687805176\n",
      "2.5447566509246826\n",
      "2.848264217376709\n",
      "2.910956621170044\n",
      "2.820953845977783\n",
      "2.743636131286621\n",
      "2.5365376472473145\n",
      "2.5287351608276367\n",
      "2.639866828918457\n",
      "2.5137336254119873\n"
     ]
    }
   ],
   "source": [
    "# repeat code with mini-batch\n",
    "for p in parameters:\n",
    "    p.requires_grad = True  # enable gradient\n",
    "    \n",
    "for _ in range(10):\n",
    "    # minibatch construct\n",
    "    ix = torch.randint(0, X.shape[0], (32,))\n",
    "\n",
    "    # forward pass \n",
    "    emb = C[X[ix]]  # !! changed, only randomly selected rows\n",
    "    h = torch.tanh(emb.view(-1, 6) @ W1 + b1)  # (32, 100)\n",
    "    logits = h @ W2 + b2   # (32, 27)\n",
    "    loss = F.cross_entropy(logits, Y[ix])   # !! changed\n",
    "    print(loss.item())\n",
    "    # backward pass\n",
    "    for p in parameters:\n",
    "        p.grad = None\n",
    "    loss.backward()\n",
    "    # update\n",
    "    for p in parameters:\n",
    "        p.data += -0.1 * p.grad"
   ]
  },
  {
   "cell_type": "code",
   "execution_count": 237,
   "id": "4b288bc2-498c-4ee7-9610-0f7184594f69",
   "metadata": {},
   "outputs": [
    {
     "data": {
      "text/plain": [
       "tensor([0.0010, 0.0111, 0.0212, 0.0313, 0.0414, 0.0515, 0.0615, 0.0716, 0.0817,\n",
       "        0.0918, 0.1019, 0.1120, 0.1221, 0.1322, 0.1423, 0.1524, 0.1625, 0.1725,\n",
       "        0.1826, 0.1927, 0.2028, 0.2129, 0.2230, 0.2331, 0.2432, 0.2533, 0.2634,\n",
       "        0.2735, 0.2835, 0.2936, 0.3037, 0.3138, 0.3239, 0.3340, 0.3441, 0.3542,\n",
       "        0.3643, 0.3744, 0.3845, 0.3945, 0.4046, 0.4147, 0.4248, 0.4349, 0.4450,\n",
       "        0.4551, 0.4652, 0.4753, 0.4854, 0.4955, 0.5055, 0.5156, 0.5257, 0.5358,\n",
       "        0.5459, 0.5560, 0.5661, 0.5762, 0.5863, 0.5964, 0.6065, 0.6165, 0.6266,\n",
       "        0.6367, 0.6468, 0.6569, 0.6670, 0.6771, 0.6872, 0.6973, 0.7074, 0.7175,\n",
       "        0.7275, 0.7376, 0.7477, 0.7578, 0.7679, 0.7780, 0.7881, 0.7982, 0.8083,\n",
       "        0.8184, 0.8285, 0.8385, 0.8486, 0.8587, 0.8688, 0.8789, 0.8890, 0.8991,\n",
       "        0.9092, 0.9193, 0.9294, 0.9395, 0.9495, 0.9596, 0.9697, 0.9798, 0.9899,\n",
       "        1.0000])"
      ]
     },
     "execution_count": 237,
     "metadata": {},
     "output_type": "execute_result"
    }
   ],
   "source": [
    "# find random range values between minimum and max range, but we do not want this linear output\n",
    "torch.linspace(0.001, 1, 100)"
   ]
  },
  {
   "cell_type": "code",
   "execution_count": 273,
   "id": "61c63200-3513-4f02-a64a-e75195c686b8",
   "metadata": {},
   "outputs": [
    {
     "data": {
      "text/plain": [
       "tensor([0.0010, 0.0011, 0.0011, 0.0012, 0.0013, 0.0014, 0.0015, 0.0016, 0.0017,\n",
       "        0.0019, 0.0020, 0.0022, 0.0023, 0.0025, 0.0027, 0.0028, 0.0031, 0.0033,\n",
       "        0.0035, 0.0038, 0.0040, 0.0043, 0.0046, 0.0050, 0.0053, 0.0057, 0.0061,\n",
       "        0.0066, 0.0071, 0.0076, 0.0081, 0.0087, 0.0093, 0.0100, 0.0107, 0.0115,\n",
       "        0.0123, 0.0132, 0.0142, 0.0152, 0.0163, 0.0175, 0.0187, 0.0201, 0.0215,\n",
       "        0.0231, 0.0248, 0.0266, 0.0285, 0.0305, 0.0327, 0.0351, 0.0376, 0.0404,\n",
       "        0.0433, 0.0464, 0.0498, 0.0534, 0.0572, 0.0614, 0.0658, 0.0705, 0.0756,\n",
       "        0.0811, 0.0870, 0.0933, 0.1000, 0.1072, 0.1150, 0.1233, 0.1322, 0.1417,\n",
       "        0.1520, 0.1630, 0.1748, 0.1874, 0.2009, 0.2154, 0.2310, 0.2477, 0.2656,\n",
       "        0.2848, 0.3054, 0.3275, 0.3511, 0.3765, 0.4037, 0.4329, 0.4642, 0.4977,\n",
       "        0.5337, 0.5722, 0.6136, 0.6579, 0.7055, 0.7565, 0.8111, 0.8697, 0.9326,\n",
       "        1.0000])"
      ]
     },
     "execution_count": 273,
     "metadata": {},
     "output_type": "execute_result"
    }
   ],
   "source": [
    "# generate learning rate exponent values to analyze learning rate statistics\n",
    "lre = torch.linspace(-3, 0, 100)   # learning rate exponent, = (0.001, 1, 100) , 10^0 == 1\n",
    "                                    # space in the interval evenly\n",
    "lrs = 10**lre     # learning rates we are searching for\n",
    "lrs               # candidate learning rates"
   ]
  },
  {
   "cell_type": "code",
   "execution_count": null,
   "id": "6b80f6f9-4851-49a2-80b6-b05ea131847c",
   "metadata": {},
   "outputs": [],
   "source": []
  },
  {
   "cell_type": "code",
   "execution_count": null,
   "id": "5a12de0e-6b6d-4897-8b0f-4d9e731b048d",
   "metadata": {},
   "outputs": [],
   "source": []
  },
  {
   "cell_type": "code",
   "execution_count": 276,
   "id": "9a99467a-26cd-4e5d-80fa-84c62d6688f5",
   "metadata": {},
   "outputs": [
    {
     "name": "stdout",
     "output_type": "stream",
     "text": [
      "3481\n",
      "7.243827819824219\n"
     ]
    }
   ],
   "source": [
    "# Train again to find the reasonable learning rate lrs\n",
    "# repeat code with mini-batch\n",
    "\n",
    "# repeat dataset code to load all words again to find reasonable learning rate\n",
    "# first testing between small values (-0.0001) to exploding values (1, 10)\n",
    "# then use torch.linspace(0.001, 1, 1000)  # between 0.001 to 1, with 1000 steps\n",
    "block_size = 3\n",
    "X, Y = [],[]\n",
    "for w in words:   # !!! use all words, not just 5\n",
    "    context = [0] * block_size \n",
    "    for ch in w + '.':\n",
    "        ix = stoi[ch]\n",
    "        X.append(context)\n",
    "        Y.append(ix)\n",
    "        context = context[1:] + [ix]  # sliding window\n",
    "X = torch.tensor(X)\n",
    "Y = torch.tensor(Y)\n",
    "\n",
    "# repeat code\n",
    "g = torch.Generator().manual_seed(42)   # for reproducibility\n",
    "C = torch.randn((27, 2), generator=g)   # indexing lookup table\n",
    "W1 = torch.randn((6, 100), generator=g)  # hidden layer\n",
    "b1 = torch.randn(100, generator=g)       # hidden layer bias \n",
    "W2 = torch.randn((100, 27), generator=g)  # final layer\n",
    "b2 = torch.randn(27, generator=g)         # final layer bias\n",
    "parameters = [C, W1, b1, W2, b2]          # cluster all together to count paramters\n",
    "\n",
    "print(sum(p.nelement() for p in parameters))  # number of parameters in total\n",
    "\n",
    "# repeat code\n",
    "lre = torch.linspace(-3, 0, 1000)   # learning rate exponent, = (0.001, 1, 100) , 10^0 == 1\n",
    "                                    # space in the interval evenly\n",
    "lrs = 10**lre     # learning rates we are searching for\n",
    "# lrs             # we replace hard coded learning rate 0.1 \n",
    "\n",
    "for p in parameters:\n",
    "    p.requires_grad = True  # enable gradient\n",
    "\n",
    "# tracking learning results\n",
    "lri = []\n",
    "lossi = []\n",
    "\n",
    "for i in range(1000):\n",
    "    # minibatch construct\n",
    "    ix = torch.randint(0, X.shape[0], (32,))\n",
    "\n",
    "    # forward pass \n",
    "    emb = C[X[ix]]  # !! changed, only randomly selected rows\n",
    "    h = torch.tanh(emb.view(-1, 6) @ W1 + b1)  # (32, 100)\n",
    "    logits = h @ W2 + b2   # (32, 27)\n",
    "    loss = F.cross_entropy(logits, Y[ix])   # !! changed\n",
    "    # print(loss.item())\n",
    "    # backward pass\n",
    "    for p in parameters:\n",
    "        p.grad = None\n",
    "    loss.backward()\n",
    "    # update\n",
    "    lr = lrs[i]\n",
    "    for p in parameters:\n",
    "        p.data += -lr * p.grad   # the p.grad from forward pass, p: tensors\n",
    "\n",
    "    # track stats\n",
    "    # lri.append(lr)    # not learning rate, but lre\n",
    "    lri.append(lre[i])\n",
    "    lossi.append(loss.item())\n",
    "print(loss.item())"
   ]
  },
  {
   "cell_type": "code",
   "execution_count": 277,
   "id": "8d7de39f-91a7-49f0-8d06-d1084a0c411a",
   "metadata": {},
   "outputs": [
    {
     "data": {
      "image/png": "[encoded data removed]",
      "text/plain": [
       "<Figure size 640x480 with 1 Axes>"
      ]
     },
     "metadata": {},
     "output_type": "display_data"
    }
   ],
   "source": [
    "# with lri and lossi, we can do plot\n",
    "# the lr is from lowest value (0.001) to maximum value (1) during 1000\n",
    "# left size lr way too low, -1.0 is fairly good lr\n",
    "plt.plot(lri, lossi)   # x: lr, y: loss\n",
    "plt.show()  "
   ]
  },
  {
   "cell_type": "code",
   "execution_count": 286,
   "id": "1cf7b2d1-04d5-4079-a2bf-c35e2392ccd7",
   "metadata": {},
   "outputs": [],
   "source": [
    "# Train again with lr of -0.1, now we have some confidence from the graph\n",
    "# Train again to find the reasonable learning rate lrs\n",
    "# repeat code with mini-batch\n",
    "\n",
    "# repeat dataset code to load all words again to find reasonable learning rate\n",
    "# first testing between small values (-0.0001) to exploding values (1, 10)\n",
    "# then use torch.linspace(0.001, 1, 1000)  # between 0.001 to 1, with 1000 steps\n",
    "block_size = 3\n",
    "X, Y = [],[]\n",
    "for w in words:   # !!! use all words, not just 5\n",
    "    context = [0] * block_size \n",
    "    for ch in w + '.':\n",
    "        ix = stoi[ch]\n",
    "        X.append(context)\n",
    "        Y.append(ix)\n",
    "        context = context[1:] + [ix]  # sliding window\n",
    "X = torch.tensor(X)\n",
    "Y = torch.tensor(Y)\n",
    "\n",
    "# repeat code\n",
    "g = torch.Generator().manual_seed(42)   # for reproducibility\n",
    "C = torch.randn((27, 2), generator=g)   # indexing lookup table\n",
    "W1 = torch.randn((6, 100), generator=g)  # hidden layer\n",
    "b1 = torch.randn(100, generator=g)       # hidden layer bias \n",
    "W2 = torch.randn((100, 27), generator=g)  # final layer\n",
    "b2 = torch.randn(27, generator=g)         # final layer bias\n",
    "parameters = [C, W1, b1, W2, b2]          # cluster all together to count paramters\n",
    "\n",
    "# print(sum(p.nelement() for p in parameters))  # number of parameters in total\n",
    "\n",
    "# repeat code\n",
    "lre = torch.linspace(-3, 0, 10000)   # !! changed, run long time\n",
    "# lre = torch.linspace(-3, 0, 1000)   # learning rate exponent, = (0.001, 1, 100) , 10^0 == 1\n",
    "                                    # space in the interval evenly\n",
    "lrs = 10**lre     # learning rates we are searching for\n",
    "# lrs             # we replace hard coded learning rate 0.1 \n",
    "\n",
    "for p in parameters:\n",
    "    p.requires_grad = True  # enable gradient\n",
    "\n",
    "# tracking learning results\n",
    "lri = []\n",
    "lossi = []\n"
   ]
  },
  {
   "cell_type": "code",
   "execution_count": 294,
   "id": "a4ccdf8d-c4d5-4cca-ac51-0736436282ac",
   "metadata": {},
   "outputs": [
    {
     "name": "stdout",
     "output_type": "stream",
     "text": [
      "1.9787638187408447\n"
     ]
    }
   ],
   "source": [
    "# run twice with lr = 0.1, loss = 2.5338966846466064, 2.3525137901306152, \n",
    "# run twice with lr = 0.01\n",
    "for i in range(10000):   # run twice with lr = 0.1\n",
    "    # minibatch construct\n",
    "    ix = torch.randint(0, X.shape[0], (32,))\n",
    "\n",
    "    # forward pass \n",
    "    emb = C[X[ix]]  # !! changed, only randomly selected rows\n",
    "    h = torch.tanh(emb.view(-1, 6) @ W1 + b1)  # (32, 100)\n",
    "    logits = h @ W2 + b2   # (32, 27)\n",
    "    loss = F.cross_entropy(logits, Y[ix])   # !! changed\n",
    "    # print(loss.item())\n",
    "    # backward pass\n",
    "    for p in parameters:\n",
    "        p.grad = None\n",
    "    loss.backward()\n",
    "    # update\n",
    "    # lr = 0.1  # or 10**-1  , train twice first for 10000\n",
    "    lr = 0.01  # or 10**-1  , train last ending stage once with smaller lr , improve by using learning rate decay, a factor of 10\n",
    "    \n",
    "    for p in parameters:\n",
    "        p.data += -lr * p.grad   # the p.grad from forward pass, p: tensors\n",
    "\n",
    "    # track stats\n",
    "    # lri.append(lr)    # not learning rate, but lre\n",
    "    # lri.append(lre[i])\n",
    "    # lossi.append(loss.item())\n",
    "print(loss.item())"
   ]
  },
  {
   "cell_type": "code",
   "execution_count": 295,
   "id": "d2d9d039-8e14-467f-93eb-c5b4385ceb68",
   "metadata": {},
   "outputs": [
    {
     "data": {
      "text/plain": [
       "tensor(2.2933, grad_fn=<NllLossBackward0>)"
      ]
     },
     "execution_count": 295,
     "metadata": {},
     "output_type": "execute_result"
    }
   ],
   "source": [
    "emb = C[X] # (32, 3, 2)\n",
    "h = torch.tanh(emb.view(-1, 6) @ W1 + b1)  # (32, 100)\n",
    "logits = h @ W2 + b2  # (32, 27)\n",
    "loss = F.cross_entropy(logits, Y)\n",
    "loss"
   ]
  },
  {
   "cell_type": "code",
   "execution_count": 296,
   "id": "ee614ce2-a2fe-45f4-b094-f8977cecae29",
   "metadata": {},
   "outputs": [],
   "source": [
    "# something we need to be careful\n",
    "# as the capacity of parameters grow, the loss on training set is very very low, could be 0\n",
    "# but this may be an issue of overfitting, model is memorizing the training dataset\n",
    "# you will get most from samples from training set\n",
    "# loss on new sample data can be very high\n",
    "\n",
    "# a practice is to split the dataset to \n",
    "# training split, to train parameters\n",
    "# dev or validation split, to train hyper parameters\n",
    "# test split, evaluate the model performance , only allow to use test split a few times to avoid being learning"
   ]
  },
  {
   "cell_type": "code",
   "execution_count": null,
   "id": "a9ebd838-de48-4c58-99d4-8f8c398e63d5",
   "metadata": {},
   "outputs": [],
   "source": []
  },
  {
   "cell_type": "code",
   "execution_count": 297,
   "id": "881b4014-4bf5-482e-a83f-6696d3aa89c5",
   "metadata": {},
   "outputs": [],
   "source": [
    "# let's do data split and use test split very very sparingly\n",
    "\n",
    "# repeat dataset code to load all words again to find reasonable learning rate\n",
    "# first testing between small values (-0.0001) to exploding values (1, 10)\n",
    "# then use torch.linspace(0.001, 1, 1000)  # between 0.001 to 1, with 1000 steps\n",
    "block_size = 3\n",
    "X, Y = [],[]\n",
    "for w in words:   # !!! use all words, not just 5\n",
    "    context = [0] * block_size \n",
    "    for ch in w + '.':\n",
    "        ix = stoi[ch]\n",
    "        X.append(context)\n",
    "        Y.append(ix)\n",
    "        context = context[1:] + [ix]  # sliding window\n",
    "X = torch.tensor(X)\n",
    "Y = torch.tensor(Y)\n"
   ]
  },
  {
   "cell_type": "code",
   "execution_count": null,
   "id": "e959cbe0-af46-4c56-8a1f-6131abebd7c1",
   "metadata": {},
   "outputs": [],
   "source": []
  },
  {
   "cell_type": "code",
   "execution_count": null,
   "id": "ecc9cb6c-7daa-43fc-8fc0-affd8ffee7fe",
   "metadata": {},
   "outputs": [],
   "source": []
  },
  {
   "cell_type": "code",
   "execution_count": 310,
   "id": "3f4755f2-db25-4496-a88c-aa82910b3112",
   "metadata": {},
   "outputs": [
    {
     "name": "stdout",
     "output_type": "stream",
     "text": [
      "torch.Size([182437, 3]) torch.Size([182437])\n",
      "torch.Size([22781, 3]) torch.Size([22781])\n",
      "torch.Size([22928, 3]) torch.Size([22928])\n"
     ]
    }
   ],
   "source": [
    "# convert dataset to a function\n",
    "\n",
    "def build_dataset(words):\n",
    "    block_size = 3\n",
    "    X, Y = [],[]\n",
    "    for w in words:   # !!! use all words, not just 5\n",
    "        context = [0] * block_size \n",
    "        for ch in w + '.':\n",
    "            ix = stoi[ch]\n",
    "            X.append(context)\n",
    "            Y.append(ix)\n",
    "            context = context[1:] + [ix]  # sliding window\n",
    "    X = torch.tensor(X)\n",
    "    Y = torch.tensor(Y)\n",
    "    print(X.shape, Y.shape)\n",
    "    return X, Y\n",
    "\n",
    "import random\n",
    "random.seed(42)\n",
    "random.shuffle(words)    # shuffle words \n",
    "n1 = int(0.8*len(words))  # 80%\n",
    "n2 = int(0.9*len(words))  # 90%\n",
    "Xtr, Ytr = build_dataset(words[:n1])   # indexing up to n1\n",
    "Xdev, Ydev = build_dataset(words[n1:n2])\n",
    "Xte, Yte = build_dataset(words[n2:])"
   ]
  },
  {
   "cell_type": "code",
   "execution_count": 311,
   "id": "4cd30cac-e2dd-4a49-a58a-1a66438d3fb3",
   "metadata": {},
   "outputs": [
    {
     "name": "stdout",
     "output_type": "stream",
     "text": [
      "32033\n",
      "25626\n",
      "28829\n",
      "3203\n"
     ]
    }
   ],
   "source": [
    "print(len(words))\n",
    "print(n1)\n",
    "print(n2)\n",
    "print(n2 - n1)"
   ]
  },
  {
   "cell_type": "code",
   "execution_count": 312,
   "id": "74187026-7370-4052-9742-05abc66527ec",
   "metadata": {},
   "outputs": [
    {
     "data": {
      "text/plain": [
       "(torch.Size([182437, 3]), torch.Size([182437]))"
      ]
     },
     "execution_count": 312,
     "metadata": {},
     "output_type": "execute_result"
    }
   ],
   "source": [
    "# training data from split\n",
    "Xtr.shape, Ytr.shape"
   ]
  },
  {
   "cell_type": "code",
   "execution_count": 313,
   "id": "44347e38-e00b-46a4-934b-ce5c7c64b6dc",
   "metadata": {},
   "outputs": [],
   "source": [
    "# reset network\n",
    "# repeat code\n",
    "g = torch.Generator().manual_seed(42)   # for reproducibility\n",
    "C = torch.randn((27, 2), generator=g)   # indexing lookup table\n",
    "W1 = torch.randn((6, 100), generator=g)  # hidden layer\n",
    "b1 = torch.randn(100, generator=g)       # hidden layer bias \n",
    "W2 = torch.randn((100, 27), generator=g)  # final layer\n",
    "b2 = torch.randn(27, generator=g)         # final layer bias\n",
    "parameters = [C, W1, b1, W2, b2]          # cluster all together to count paramters"
   ]
  },
  {
   "cell_type": "code",
   "execution_count": 314,
   "id": "50ba76de-cd62-4487-82d2-25f0491535ff",
   "metadata": {},
   "outputs": [
    {
     "name": "stdout",
     "output_type": "stream",
     "text": [
      "2.2514100074768066\n"
     ]
    }
   ],
   "source": [
    "# only Xtrain\n",
    "\n",
    "for p in parameters:\n",
    "    p.requires_grad = True  # enable gradient\n",
    "    \n",
    "for i in range(10000):   # run twice with lr = 0.1\n",
    "    # minibatch construct\n",
    "    ix = torch.randint(0, Xtr.shape[0], (32,))  # !! changed \n",
    "\n",
    "    # forward pass \n",
    "    emb = C[Xtr[ix]]  # !! changed\n",
    "    h = torch.tanh(emb.view(-1, 6) @ W1 + b1)  # (32, 100)\n",
    "    logits = h @ W2 + b2   # (32, 27)\n",
    "    loss = F.cross_entropy(logits, Ytr[ix])   # !! changed\n",
    "    # print(loss.item())\n",
    "    # backward pass\n",
    "    for p in parameters:\n",
    "        p.grad = None\n",
    "    loss.backward()\n",
    "    # update\n",
    "    lr = 0.1  # or 10**-1  , train twice first for 10000\n",
    "    # lr = 0.01  # or 10**-1  , train last ending stage once with smaller lr , improve by using learning rate decay, a factor of 10\n",
    "    \n",
    "    for p in parameters:\n",
    "        p.data += -lr * p.grad   # the p.grad from forward pass, p: tensors\n",
    "\n",
    "    # track stats\n",
    "    # lri.append(lr)    # not learning rate, but lre\n",
    "    # lri.append(lre[i])\n",
    "    # lossi.append(loss.item())\n",
    "print(loss.item())\n"
   ]
  },
  {
   "cell_type": "code",
   "execution_count": 315,
   "id": "b94699ab-6d3c-428e-acb9-5d6d528686dd",
   "metadata": {},
   "outputs": [
    {
     "data": {
      "text/plain": [
       "tensor(2.4664, grad_fn=<NllLossBackward0>)"
      ]
     },
     "execution_count": 315,
     "metadata": {},
     "output_type": "execute_result"
    }
   ],
   "source": [
    "# evaluate with dev set, neural network did not see Xdev samples during training\n",
    "emb = C[Xdev] # (32, 3, 2)   # !! changed\n",
    "h = torch.tanh(emb.view(-1, 6) @ W1 + b1)  # (32, 100)\n",
    "logits = h @ W2 + b2  # (32, 27)\n",
    "loss = F.cross_entropy(logits, Ydev)   #!! changed\n",
    "loss"
   ]
  },
  {
   "cell_type": "code",
   "execution_count": 318,
   "id": "d7fcd2c4-3f97-483c-a0d6-58013a87ca68",
   "metadata": {},
   "outputs": [
    {
     "data": {
      "text/plain": [
       "tensor(2.4543, grad_fn=<NllLossBackward0>)"
      ]
     },
     "execution_count": 318,
     "metadata": {},
     "output_type": "execute_result"
    }
   ],
   "source": [
    "# checking training set loss, about equal, may indicates not overfitting\n",
    "# the model is not powerful enough to memorize the data\n",
    "emb = C[Xtr] # (32, 3, 2)   # !! changed\n",
    "h = torch.tanh(emb.view(-1, 6) @ W1 + b1)  # (32, 100)\n",
    "logits = h @ W2 + b2  # (32, 27)\n",
    "loss = F.cross_entropy(logits, Ytr)   #!! changed\n",
    "loss"
   ]
  },
  {
   "cell_type": "code",
   "execution_count": 323,
   "id": "f9e1358e-668f-4ec1-841e-2d7dd1ccdf20",
   "metadata": {},
   "outputs": [
    {
     "name": "stdout",
     "output_type": "stream",
     "text": [
      "10281\n"
     ]
    }
   ],
   "source": [
    "# a new issue of underfitting, because of the small amount of data\n",
    "# we need to scale up the neural net\n",
    "# train network again to with scaled up neurons and parameters \n",
    "\n",
    "# repeat code\n",
    "g = torch.Generator().manual_seed(42)   # for reproducibility\n",
    "C = torch.randn((27, 2), generator=g)   # indexing lookup table\n",
    "W1 = torch.randn((6, 300), generator=g)  # hidden layer, !! changed 100 to 300\n",
    "b1 = torch.randn(300, generator=g)       # hidden layer bias  !! also changed from 100 to 300\n",
    "W2 = torch.randn((300, 27), generator=g)  # final layer  !! changed \n",
    "b2 = torch.randn(27, generator=g)         # final layer bias\n",
    "parameters = [C, W1, b1, W2, b2]          # cluster all together to count paramters\n",
    "\n",
    "print(sum(p.nelement() for p in parameters))  # number of parameters in total  !! changed from 3481 to 10281"
   ]
  },
  {
   "cell_type": "code",
   "execution_count": 325,
   "id": "53695c7f-a442-48ff-a3a6-220b5d458ef1",
   "metadata": {},
   "outputs": [
    {
     "name": "stdout",
     "output_type": "stream",
     "text": [
      "2.4678351879119873\n"
     ]
    }
   ],
   "source": [
    "# only Xtrain\n",
    "\n",
    "for p in parameters:\n",
    "    p.requires_grad = True  # enable gradient\n",
    "\n",
    "lri = []\n",
    "lossi = []\n",
    "stepi = []\n",
    "\n",
    "for i in range(10000):   # run twice with lr = 0.1\n",
    "    # minibatch construct\n",
    "    ix = torch.randint(0, Xtr.shape[0], (32,))  # !! changed we may need to change batch size to bigger\n",
    "\n",
    "    # forward pass \n",
    "    emb = C[Xtr[ix]]  # !! changed\n",
    "    h = torch.tanh(emb.view(-1, 6) @ W1 + b1)  # (32, 100)\n",
    "    logits = h @ W2 + b2   # (32, 27)\n",
    "    loss = F.cross_entropy(logits, Ytr[ix])   # !! changed\n",
    "    # print(loss.item())\n",
    "    # backward pass\n",
    "    for p in parameters:\n",
    "        p.grad = None\n",
    "    loss.backward()\n",
    "    # update\n",
    "    lr = 0.1  # or 10**-1  , train twice first for 10000\n",
    "    # lr = 0.01  # or 10**-1  , train last ending stage once with smaller lr , improve by using learning rate decay, a factor of 10\n",
    "    \n",
    "    for p in parameters:\n",
    "        p.data += -lr * p.grad   # the p.grad from forward pass, p: tensors\n",
    "\n",
    "    # track stats\n",
    "    # lri.append(lr)    # not learning rate, but lre\n",
    "    # lri.append(lre[i])\n",
    "    stepi.append(i)\n",
    "    lossi.append(loss.item())\n",
    "print(loss.item())"
   ]
  },
  {
   "cell_type": "code",
   "execution_count": 326,
   "id": "8a1c0f6b-bb22-4f53-aa5b-22135737a941",
   "metadata": {},
   "outputs": [
    {
     "data": {
      "image/png": "[encoded data removed]",
      "text/plain": [
       "<Figure size 640x480 with 1 Axes>"
      ]
     },
     "metadata": {},
     "output_type": "display_data"
    }
   ],
   "source": [
    "# check stats in graph\n",
    "plt.plot(stepi, lossi)\n",
    "plt.show()"
   ]
  },
  {
   "cell_type": "code",
   "execution_count": 328,
   "id": "481fdbf9-5e9e-46ef-8b2d-204b8d81e6ce",
   "metadata": {},
   "outputs": [
    {
     "data": {
      "text/plain": [
       "tensor(2.5041, grad_fn=<NllLossBackward0>)"
      ]
     },
     "execution_count": 328,
     "metadata": {},
     "output_type": "execute_result"
    }
   ],
   "source": [
    "# evaluate with dev set, neural network did not see Xdev samples during training\n",
    "emb = C[Xtr] # (32, 3, 2)   # !! changed\n",
    "h = torch.tanh(emb.view(-1, 6) @ W1 + b1)  # (32, 100)\n",
    "logits = h @ W2 + b2  # (32, 27)\n",
    "loss = F.cross_entropy(logits, Ytr)   #!! changed\n",
    "loss"
   ]
  },
  {
   "cell_type": "code",
   "execution_count": 329,
   "id": "a0554ef2-19dc-4e12-b0c8-8d2cf4e755e1",
   "metadata": {},
   "outputs": [
    {
     "data": {
      "text/plain": [
       "tensor(2.5195, grad_fn=<NllLossBackward0>)"
      ]
     },
     "execution_count": 329,
     "metadata": {},
     "output_type": "execute_result"
    }
   ],
   "source": [
    "# evaluate with dev set, neural network did not see Xdev samples during training\n",
    "emb = C[Xdev] # (32, 3, 2)   # !! changed\n",
    "h = torch.tanh(emb.view(-1, 6) @ W1 + b1)  # (32, 100)\n",
    "logits = h @ W2 + b2  # (32, 27)\n",
    "loss = F.cross_entropy(logits, Ydev)   #!! changed\n",
    "loss"
   ]
  },
  {
   "cell_type": "code",
   "execution_count": 333,
   "id": "ca621431-cd03-4b1a-87bc-fd8de3dbeb91",
   "metadata": {},
   "outputs": [
    {
     "data": {
      "image/png": "[encoded data removed]",
      "text/plain": [
       "<Figure size 800x800 with 1 Axes>"
      ]
     },
     "metadata": {},
     "output_type": "display_data"
    }
   ],
   "source": [
    "# another issue of underfitting, could be the 2 dimension of index tensor, too small\n",
    "# we are not improving anymore, and may reach the bottleneck\n",
    "\n",
    "# we want to visualize the embedding\n",
    "plt.figure(figsize=(8,8))\n",
    "plt.scatter(C[:, 0].data, C[:,1].data, s=200)\n",
    "for i in range(C.shape[0]):\n",
    "    plt.text(C[i,0].item(), C[i,1].item(), itos[i], ha=\"center\", va=\"center\", color=\"white\")\n",
    "plt.grid('minor')\n",
    "plt.show()   # because we only have 2 dimensions indexing tensor, we can see in x,y \n",
    "# interesting finding, the vowels a,e,i,o,u are clustered in left bottom corner\n",
    "# kind of interchangable\n",
    "# q, . (special char) are way out\n"
   ]
  },
  {
   "cell_type": "code",
   "execution_count": 337,
   "id": "57cb29e4-a85b-4be5-833e-05632e752788",
   "metadata": {},
   "outputs": [
    {
     "name": "stdout",
     "output_type": "stream",
     "text": [
      "11897\n"
     ]
    }
   ],
   "source": [
    "# we will train use 10 dimensional embeddings\n",
    "# repeat code\n",
    "g = torch.Generator().manual_seed(42)   # for reproducibility\n",
    "C = torch.randn((27, 10), generator=g)   # !! changed from 27 to 30, 2 to 10\n",
    "W1 = torch.randn((30, 200), generator=g)  # hidden layer, !! changed 100 to 300\n",
    "b1 = torch.randn(200, generator=g)       # hidden layer bias  !! also changed from 100 to 300\n",
    "W2 = torch.randn((200, 27), generator=g)  # final layer  !! changed \n",
    "b2 = torch.randn(27, generator=g)         # final layer bias\n",
    "parameters = [C, W1, b1, W2, b2]          # cluster all together to count paramters\n",
    "\n",
    "print(sum(p.nelement() for p in parameters))  # number of parameters in total  !! changed from 3481 to 10281"
   ]
  },
  {
   "cell_type": "code",
   "execution_count": 339,
   "id": "b82da2dd-ace1-4ab3-b389-1edf7d79773b",
   "metadata": {},
   "outputs": [],
   "source": [
    "for p in parameters:\n",
    "    p.requires_grad = True\n",
    "\n",
    "lre = torch.linspace(-3, 0, 1000)\n",
    "lrs = 10**lre\n",
    "\n",
    "# only Xtrain\n",
    "lri = []\n",
    "lossi = []\n",
    "stepi = []\n"
   ]
  },
  {
   "cell_type": "code",
   "execution_count": 340,
   "id": "acdcf544-bc34-4a81-8c13-0c2bba762967",
   "metadata": {},
   "outputs": [
    {
     "name": "stdout",
     "output_type": "stream",
     "text": [
      "2.205228567123413\n"
     ]
    }
   ],
   "source": [
    "for i in range(10000):   # run twice with lr = 0.1\n",
    "    # minibatch construct\n",
    "    ix = torch.randint(0, Xtr.shape[0], (32,))  # !! changed we may need to change batch size to bigger\n",
    "\n",
    "    # forward pass \n",
    "    emb = C[Xtr[ix]]  # !! changed\n",
    "    h = torch.tanh(emb.view(-1, 30) @ W1 + b1)  # (32, 100)\n",
    "    logits = h @ W2 + b2   # (32, 27)\n",
    "    loss = F.cross_entropy(logits, Ytr[ix])   # !! changed\n",
    "    # print(loss.item())\n",
    "    # backward pass\n",
    "    for p in parameters:\n",
    "        p.grad = None\n",
    "    loss.backward()\n",
    "    # update\n",
    "    lr = 0.1  # or 10**-1  , train twice first for 10000\n",
    "    # lr = 0.01  # or 10**-1  , train last ending stage once with smaller lr , improve by using learning rate decay, a factor of 10\n",
    "    \n",
    "    for p in parameters:\n",
    "        p.data += -lr * p.grad   # the p.grad from forward pass, p: tensors\n",
    "\n",
    "    # track stats\n",
    "    # lri.append(lr)    # not learning rate, but lre\n",
    "    # lri.append(lre[i])\n",
    "    stepi.append(i)\n",
    "    lossi.append(loss.log10().item())\n",
    "print(loss.item())\n"
   ]
  },
  {
   "cell_type": "code",
   "execution_count": 341,
   "id": "30eeb7e8-de32-4053-8b36-c1f101bbb51b",
   "metadata": {},
   "outputs": [
    {
     "data": {
      "image/png": "[encoded data removed]",
      "text/plain": [
       "<Figure size 640x480 with 1 Axes>"
      ]
     },
     "metadata": {},
     "output_type": "display_data"
    }
   ],
   "source": [
    "plt.plot(stepi, lossi)\n",
    "plt.show()"
   ]
  },
  {
   "cell_type": "code",
   "execution_count": 342,
   "id": "89fdf2f1-d159-4155-98a3-b5efe779be19",
   "metadata": {},
   "outputs": [
    {
     "data": {
      "text/plain": [
       "tensor(2.5232, grad_fn=<NllLossBackward0>)"
      ]
     },
     "execution_count": 342,
     "metadata": {},
     "output_type": "execute_result"
    }
   ],
   "source": [
    "# evaluate with dev set, neural network did not see Xdev samples during training\n",
    "emb = C[Xtr] # (32, 3, 2)   # !! changed\n",
    "h = torch.tanh(emb.view(-1, 30) @ W1 + b1)  # (32, 100)\n",
    "logits = h @ W2 + b2  # (32, 27)\n",
    "loss = F.cross_entropy(logits, Ytr)   #!! changed\n",
    "loss"
   ]
  },
  {
   "cell_type": "code",
   "execution_count": 344,
   "id": "c8f64d30-7665-4ee5-9b4a-598ff90377d3",
   "metadata": {},
   "outputs": [
    {
     "data": {
      "text/plain": [
       "tensor(2.5471, grad_fn=<NllLossBackward0>)"
      ]
     },
     "execution_count": 344,
     "metadata": {},
     "output_type": "execute_result"
    }
   ],
   "source": [
    "# evaluate with dev set, neural network did not see Xdev samples during training\n",
    "emb = C[Xdev] # (32, 3, 2)   # !! changed\n",
    "h = torch.tanh(emb.view(-1, 30) @ W1 + b1)  # (32, 100)\n",
    "logits = h @ W2 + b2  # (32, 27)\n",
    "loss = F.cross_entropy(logits, Ydev)   #!! changed\n",
    "loss"
   ]
  },
  {
   "cell_type": "code",
   "execution_count": 346,
   "id": "eadc6605-c2d3-412f-b0f3-661228e6ea3f",
   "metadata": {},
   "outputs": [
    {
     "data": {
      "image/png": "[encoded data removed]",
      "text/plain": [
       "<Figure size 800x800 with 1 Axes>"
      ]
     },
     "metadata": {},
     "output_type": "display_data"
    },
    {
     "data": {
      "image/png": "[encoded data removed]",
      "text/plain": [
       "<Figure size 800x800 with 1 Axes>"
      ]
     },
     "metadata": {},
     "output_type": "display_data"
    }
   ],
   "source": [
    "plt.figure(figsize=(8, 8))\n",
    "plt.scatter(C[:, 0].data, C[:, 1].data, s=200)\n",
    "for i in range(C.shape[0]):\n",
    "    plt.text(C[i,0].item(), C[i,1].item(), itos[i], ha=\"center\", va=\"center\", color='white')\n",
    "plt.grid('minor')\n",
    "plt.show()"
   ]
  },
  {
   "cell_type": "code",
   "execution_count": 347,
   "id": "546e2978-d300-459a-9cc4-47f018e4db52",
   "metadata": {},
   "outputs": [],
   "source": [
    "# When you find dev validation is good, run test data once\n",
    "# We can continue optimization\n",
    "# We can play with the size of the neural net\n",
    "# We can increase the number of words and characters, taking more characters as input\n",
    "# increase the training steps to 200000\n",
    "# change lr from 0.1, 0.01,\n",
    "# tune a few knobs availabl to optimize the neural network training\n",
    "# change the dimensionality of the embedding lookup table\n",
    "# change the number of characters that are feeding in as an input as the context into this model\n",
    "# change the optimization how long are we running\n",
    "# what are learning rate, how does it change over time, how does it decay\n",
    "# change the batch size, can achieve a much better convergence speed\n",
    "# change training time to reach low loss\n",
    "\n",
    "# worth read the paper \n"
   ]
  },
  {
   "cell_type": "code",
   "execution_count": 353,
   "id": "2159a0d1-cbbf-45b3-a500-c58d483ba988",
   "metadata": {},
   "outputs": [
    {
     "name": "stdout",
     "output_type": "stream",
     "text": [
      "elyan.\n",
      "casiiah.\n",
      "huy.\n",
      "elia.\n",
      "mla.\n",
      "marman.\n",
      "nacm.\n",
      "tha.\n",
      "julisla.\n",
      "dnd.\n",
      "laulri.\n",
      "amari.\n",
      "karli.\n",
      "alen.\n",
      "mha.\n",
      "briencl.\n",
      "joon.\n",
      "mesk.\n",
      "dymo.\n",
      "jos.\n"
     ]
    }
   ],
   "source": [
    "# how to sample from the model\n",
    "g = torch.Generator().manual_seed(42 + 10)\n",
    "for _ in range(20):\n",
    "    out = []\n",
    "    context = [0] * block_size   # initiaize with all ...\n",
    "    while True:\n",
    "        emb = C[torch.tensor([context])]   # using embedding table C, context size\n",
    "                                            #(1, block_size, d), single example we are generating\n",
    "        h = torch.tanh(emb.view(1, -1) @ W1 + b1)\n",
    "        logits = h @ W2 + b2    # projects to logits\n",
    "        probs = F.softmax(logits, dim=1)   # exponentiates the logits and make them sum to one\n",
    "        ix = torch.multinomial(probs, num_samples=1, generator=g).item()  # sample to get out text\n",
    "        context = context[1:] + [ix]    # shift context window\n",
    "        out.append(ix)   # record it\n",
    "        if ix == 0:   # until we reach 0, move to next for loop\n",
    "            break\n",
    "    print(''.join(itos[i] for i in out))  # decode integer to string, print out\n",
    "# made progress, can still improve"
   ]
  },
  {
   "cell_type": "code",
   "execution_count": null,
   "id": "33851d32-1c01-405c-8bfa-6786be9817b3",
   "metadata": {},
   "outputs": [],
   "source": []
  }
 ],
 "metadata": {
  "kernelspec": {
   "display_name": "Python 3 (ipykernel)",
   "language": "python",
   "name": "python3"
  },
  "language_info": {
   "codemirror_mode": {
    "name": "ipython",
    "version": 3
   },
   "file_extension": ".py",
   "mimetype": "text/x-python",
   "name": "python",
   "nbconvert_exporter": "python",
   "pygments_lexer": "ipython3",
   "version": "3.10.15"
  }
 },
 "nbformat": 4,
 "nbformat_minor": 5
}
